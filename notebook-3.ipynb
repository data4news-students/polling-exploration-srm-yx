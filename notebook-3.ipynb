{
 "cells": [
  {
   "cell_type": "markdown",
   "metadata": {},
   "source": [
    "# Python and R"
   ]
  },
  {
   "cell_type": "code",
   "execution_count": 29,
   "metadata": {},
   "outputs": [
    {
     "name": "stdout",
     "output_type": "stream",
     "text": [
      "The rpy2.ipython extension is already loaded. To reload it, use:\n",
      "  %reload_ext rpy2.ipython\n",
      "The autoreload extension is already loaded. To reload it, use:\n",
      "  %reload_ext autoreload\n"
     ]
    }
   ],
   "source": [
    "%load_ext rpy2.ipython\n",
    "%load_ext autoreload\n",
    "%autoreload 2\n",
    "\n",
    "%matplotlib inline  \n",
    "from matplotlib import rcParams\n",
    "rcParams['figure.figsize'] = (16, 100)\n",
    "\n",
    "import warnings\n",
    "from rpy2.rinterface import RRuntimeWarning\n",
    "warnings.filterwarnings(\"ignore\") # Ignore all warnings\n",
    "# warnings.filterwarnings(\"ignore\", category=RRuntimeWarning) # Show some warnings\n",
    "\n",
    "import pandas as pd\n",
    "import numpy as np\n",
    "import matplotlib.pyplot as plt\n",
    "from IPython.display import display, HTML\n",
    "\n",
    "# show all columns on pandas dataframes\n",
    "pd.set_option('display.max_columns', None)\n"
   ]
  },
  {
   "cell_type": "code",
   "execution_count": 30,
   "metadata": {},
   "outputs": [
    {
     "data": {
      "application/javascript": "// Disable auto-scrolling\nIPython.OutputArea.prototype._should_scroll = function(lines) {\n    return false;\n}\n",
      "text/plain": [
       "<IPython.core.display.Javascript object>"
      ]
     },
     "metadata": {},
     "output_type": "display_data"
    }
   ],
   "source": [
    "%%javascript\n",
    "// Disable auto-scrolling\n",
    "IPython.OutputArea.prototype._should_scroll = function(lines) {\n",
    "    return false;\n",
    "}"
   ]
  },
  {
   "cell_type": "code",
   "execution_count": 31,
   "metadata": {},
   "outputs": [],
   "source": [
    "%%R\n",
    "\n",
    "# My commonly used R imports\n",
    "\n",
    "require('tidyverse')\n"
   ]
  },
  {
   "cell_type": "markdown",
   "metadata": {},
   "source": [
    "\n",
    "# Read the data\n",
    "\n"
   ]
  },
  {
   "cell_type": "markdown",
   "metadata": {},
   "source": [
    "The cell below loads the data in python:"
   ]
  },
  {
   "cell_type": "code",
   "execution_count": 32,
   "metadata": {},
   "outputs": [
    {
     "data": {
      "text/html": [
       "<div>\n",
       "<style scoped>\n",
       "    .dataframe tbody tr th:only-of-type {\n",
       "        vertical-align: middle;\n",
       "    }\n",
       "\n",
       "    .dataframe tbody tr th {\n",
       "        vertical-align: top;\n",
       "    }\n",
       "\n",
       "    .dataframe thead th {\n",
       "        text-align: right;\n",
       "    }\n",
       "</style>\n",
       "<table border=\"1\" class=\"dataframe\">\n",
       "  <thead>\n",
       "    <tr style=\"text-align: right;\">\n",
       "      <th></th>\n",
       "      <th>poll_id</th>\n",
       "      <th>question_id</th>\n",
       "      <th>race_id</th>\n",
       "      <th>year</th>\n",
       "      <th>race</th>\n",
       "      <th>location</th>\n",
       "      <th>type_simple</th>\n",
       "      <th>type_detail</th>\n",
       "      <th>pollster</th>\n",
       "      <th>pollster_rating_id</th>\n",
       "      <th>methodology</th>\n",
       "      <th>partisan</th>\n",
       "      <th>polldate</th>\n",
       "      <th>samplesize</th>\n",
       "      <th>cand1_name</th>\n",
       "      <th>cand1_id</th>\n",
       "      <th>cand1_party</th>\n",
       "      <th>cand1_pct</th>\n",
       "      <th>cand2_name</th>\n",
       "      <th>cand2_id</th>\n",
       "      <th>cand2_party</th>\n",
       "      <th>cand2_pct</th>\n",
       "      <th>cand3_pct</th>\n",
       "      <th>margin_poll</th>\n",
       "      <th>electiondate</th>\n",
       "      <th>cand1_actual</th>\n",
       "      <th>cand2_actual</th>\n",
       "      <th>margin_actual</th>\n",
       "      <th>bias</th>\n",
       "      <th>rightcall</th>\n",
       "      <th>comment</th>\n",
       "    </tr>\n",
       "  </thead>\n",
       "  <tbody>\n",
       "    <tr>\n",
       "      <th>2994</th>\n",
       "      <td>38942</td>\n",
       "      <td>33004</td>\n",
       "      <td>8655</td>\n",
       "      <td>2006</td>\n",
       "      <td>2006_House-G_US</td>\n",
       "      <td>US</td>\n",
       "      <td>House-G</td>\n",
       "      <td>House-G</td>\n",
       "      <td>CBS News/The New York Times</td>\n",
       "      <td>36</td>\n",
       "      <td>Live Phone</td>\n",
       "      <td>NaN</td>\n",
       "      <td>10/29/06</td>\n",
       "      <td>598.0</td>\n",
       "      <td>Generic Candidate</td>\n",
       "      <td>13746</td>\n",
       "      <td>DEM</td>\n",
       "      <td>52.0</td>\n",
       "      <td>Generic Candidate</td>\n",
       "      <td>13747</td>\n",
       "      <td>REP</td>\n",
       "      <td>34.0</td>\n",
       "      <td>NaN</td>\n",
       "      <td>18.0</td>\n",
       "      <td>11/7/06</td>\n",
       "      <td>51.60</td>\n",
       "      <td>44.07</td>\n",
       "      <td>7.53</td>\n",
       "      <td>10.47</td>\n",
       "      <td>1.0</td>\n",
       "      <td>NaN</td>\n",
       "    </tr>\n",
       "    <tr>\n",
       "      <th>612</th>\n",
       "      <td>63613</td>\n",
       "      <td>117077</td>\n",
       "      <td>820</td>\n",
       "      <td>2000</td>\n",
       "      <td>2000_Pres-G_IL</td>\n",
       "      <td>IL</td>\n",
       "      <td>Pres-G</td>\n",
       "      <td>Pres-G</td>\n",
       "      <td>Rasmussen Reports/Pulse Opinion Research</td>\n",
       "      <td>277</td>\n",
       "      <td>IVR</td>\n",
       "      <td>NaN</td>\n",
       "      <td>10/23/00</td>\n",
       "      <td>880.0</td>\n",
       "      <td>Al Gore</td>\n",
       "      <td>222</td>\n",
       "      <td>DEM</td>\n",
       "      <td>44.0</td>\n",
       "      <td>George W. Bush</td>\n",
       "      <td>241</td>\n",
       "      <td>REP</td>\n",
       "      <td>40.0</td>\n",
       "      <td>NaN</td>\n",
       "      <td>4.0</td>\n",
       "      <td>11/7/00</td>\n",
       "      <td>54.60</td>\n",
       "      <td>42.58</td>\n",
       "      <td>12.01</td>\n",
       "      <td>-8.01</td>\n",
       "      <td>1.0</td>\n",
       "      <td>NaN</td>\n",
       "    </tr>\n",
       "    <tr>\n",
       "      <th>216</th>\n",
       "      <td>54228</td>\n",
       "      <td>87764</td>\n",
       "      <td>1437</td>\n",
       "      <td>1998</td>\n",
       "      <td>1998_Gov-G_CO</td>\n",
       "      <td>CO</td>\n",
       "      <td>Gov-G</td>\n",
       "      <td>Gov-G</td>\n",
       "      <td>Ciruli Associates</td>\n",
       "      <td>51</td>\n",
       "      <td>Live Phone</td>\n",
       "      <td>NaN</td>\n",
       "      <td>10/28/98</td>\n",
       "      <td>500.0</td>\n",
       "      <td>Gail Schoettler</td>\n",
       "      <td>13022</td>\n",
       "      <td>DEM</td>\n",
       "      <td>42.0</td>\n",
       "      <td>William F. Owens</td>\n",
       "      <td>13021</td>\n",
       "      <td>REP</td>\n",
       "      <td>46.0</td>\n",
       "      <td>NaN</td>\n",
       "      <td>-4.0</td>\n",
       "      <td>11/3/98</td>\n",
       "      <td>48.42</td>\n",
       "      <td>49.04</td>\n",
       "      <td>-0.62</td>\n",
       "      <td>-3.38</td>\n",
       "      <td>1.0</td>\n",
       "      <td>NaN</td>\n",
       "    </tr>\n",
       "    <tr>\n",
       "      <th>10282</th>\n",
       "      <td>72230</td>\n",
       "      <td>135502</td>\n",
       "      <td>6241</td>\n",
       "      <td>2020</td>\n",
       "      <td>2020_Pres-G_NH</td>\n",
       "      <td>NH</td>\n",
       "      <td>Pres-G</td>\n",
       "      <td>Pres-G</td>\n",
       "      <td>University of New Hampshire</td>\n",
       "      <td>357</td>\n",
       "      <td>Online</td>\n",
       "      <td>NaN</td>\n",
       "      <td>10/26/20</td>\n",
       "      <td>864.0</td>\n",
       "      <td>Joseph R. Biden Jr.</td>\n",
       "      <td>13256</td>\n",
       "      <td>DEM</td>\n",
       "      <td>53.0</td>\n",
       "      <td>Donald Trump</td>\n",
       "      <td>13254</td>\n",
       "      <td>REP</td>\n",
       "      <td>45.0</td>\n",
       "      <td>1.0</td>\n",
       "      <td>8.0</td>\n",
       "      <td>11/3/20</td>\n",
       "      <td>52.71</td>\n",
       "      <td>45.36</td>\n",
       "      <td>7.35</td>\n",
       "      <td>0.65</td>\n",
       "      <td>1.0</td>\n",
       "      <td>NaN</td>\n",
       "    </tr>\n",
       "    <tr>\n",
       "      <th>9613</th>\n",
       "      <td>64102</td>\n",
       "      <td>117945</td>\n",
       "      <td>7735</td>\n",
       "      <td>2020</td>\n",
       "      <td>2020_Pres-D_NV</td>\n",
       "      <td>NV</td>\n",
       "      <td>Pres-P</td>\n",
       "      <td>Pres-D</td>\n",
       "      <td>Point Blank Political</td>\n",
       "      <td>550</td>\n",
       "      <td>Online</td>\n",
       "      <td>NaN</td>\n",
       "      <td>2/14/20</td>\n",
       "      <td>256.0</td>\n",
       "      <td>Bernard Sanders</td>\n",
       "      <td>13257</td>\n",
       "      <td>DEM</td>\n",
       "      <td>13.0</td>\n",
       "      <td>Joseph R. Biden Jr.</td>\n",
       "      <td>13256</td>\n",
       "      <td>DEM</td>\n",
       "      <td>14.3</td>\n",
       "      <td>12.6</td>\n",
       "      <td>-1.3</td>\n",
       "      <td>2/22/20</td>\n",
       "      <td>33.99</td>\n",
       "      <td>17.57</td>\n",
       "      <td>16.43</td>\n",
       "      <td>NaN</td>\n",
       "      <td>0.0</td>\n",
       "      <td>NaN</td>\n",
       "    </tr>\n",
       "  </tbody>\n",
       "</table>\n",
       "</div>"
      ],
      "text/plain": [
       "       poll_id  question_id  race_id  year             race location  \\\n",
       "2994     38942        33004     8655  2006  2006_House-G_US       US   \n",
       "612      63613       117077      820  2000   2000_Pres-G_IL       IL   \n",
       "216      54228        87764     1437  1998    1998_Gov-G_CO       CO   \n",
       "10282    72230       135502     6241  2020   2020_Pres-G_NH       NH   \n",
       "9613     64102       117945     7735  2020   2020_Pres-D_NV       NV   \n",
       "\n",
       "      type_simple type_detail                                  pollster  \\\n",
       "2994      House-G     House-G               CBS News/The New York Times   \n",
       "612        Pres-G      Pres-G  Rasmussen Reports/Pulse Opinion Research   \n",
       "216         Gov-G       Gov-G                         Ciruli Associates   \n",
       "10282      Pres-G      Pres-G               University of New Hampshire   \n",
       "9613       Pres-P      Pres-D                     Point Blank Political   \n",
       "\n",
       "       pollster_rating_id methodology partisan  polldate  samplesize  \\\n",
       "2994                   36  Live Phone      NaN  10/29/06       598.0   \n",
       "612                   277         IVR      NaN  10/23/00       880.0   \n",
       "216                    51  Live Phone      NaN  10/28/98       500.0   \n",
       "10282                 357      Online      NaN  10/26/20       864.0   \n",
       "9613                  550      Online      NaN   2/14/20       256.0   \n",
       "\n",
       "                cand1_name  cand1_id cand1_party  cand1_pct  \\\n",
       "2994     Generic Candidate     13746         DEM       52.0   \n",
       "612                Al Gore       222         DEM       44.0   \n",
       "216        Gail Schoettler     13022         DEM       42.0   \n",
       "10282  Joseph R. Biden Jr.     13256         DEM       53.0   \n",
       "9613       Bernard Sanders     13257         DEM       13.0   \n",
       "\n",
       "                cand2_name  cand2_id cand2_party  cand2_pct  cand3_pct  \\\n",
       "2994     Generic Candidate     13747         REP       34.0        NaN   \n",
       "612         George W. Bush       241         REP       40.0        NaN   \n",
       "216       William F. Owens     13021         REP       46.0        NaN   \n",
       "10282         Donald Trump     13254         REP       45.0        1.0   \n",
       "9613   Joseph R. Biden Jr.     13256         DEM       14.3       12.6   \n",
       "\n",
       "       margin_poll electiondate  cand1_actual  cand2_actual  margin_actual  \\\n",
       "2994          18.0      11/7/06         51.60         44.07           7.53   \n",
       "612            4.0      11/7/00         54.60         42.58          12.01   \n",
       "216           -4.0      11/3/98         48.42         49.04          -0.62   \n",
       "10282          8.0      11/3/20         52.71         45.36           7.35   \n",
       "9613          -1.3      2/22/20         33.99         17.57          16.43   \n",
       "\n",
       "        bias  rightcall comment  \n",
       "2994   10.47        1.0     NaN  \n",
       "612    -8.01        1.0     NaN  \n",
       "216    -3.38        1.0     NaN  \n",
       "10282   0.65        1.0     NaN  \n",
       "9613     NaN        0.0     NaN  "
      ]
     },
     "execution_count": 32,
     "metadata": {},
     "output_type": "execute_result"
    }
   ],
   "source": [
    "df = pd.read_csv('raw-polls.csv')\n",
    "df.sample(5)"
   ]
  },
  {
   "cell_type": "markdown",
   "metadata": {},
   "source": [
    "The cell below loads the same data in R:"
   ]
  },
  {
   "cell_type": "code",
   "execution_count": 33,
   "metadata": {},
   "outputs": [
    {
     "name": "stdout",
     "output_type": "stream",
     "text": [
      "Rows: 10776 Columns: 31\n",
      "── Column specification ────────────────────────────────────────────────────────\n",
      "Delimiter: \",\"\n",
      "chr (14): race, location, type_simple, type_detail, pollster, methodology, p...\n",
      "dbl (17): poll_id, question_id, race_id, year, pollster_rating_id, samplesiz...\n",
      "\n",
      "ℹ Use `spec()` to retrieve the full column specification for this data.\n",
      "ℹ Specify the column types or set `show_col_types = FALSE` to quiet this message.\n",
      "# A tibble: 10,776 × 31\n",
      "   poll_id questio…¹ race_id  year race  locat…² type_…³ type_…⁴ polls…⁵ polls…⁶\n",
      "     <dbl>     <dbl>   <dbl> <dbl> <chr> <chr>   <chr>   <chr>   <chr>     <dbl>\n",
      " 1   26013     87909    1455  1998 1998… NY      Gov-G   Gov-G   Blum &…      32\n",
      " 2   26255     87926    1456  1998 1998… OH      Gov-G   Gov-G   Univer…     346\n",
      " 3   26026     31266    1736  1998 1998… NV      Sen-G   Sen-G   FM3 Re…      91\n",
      " 4   26013     31253    1738  1998 1998… NY      Sen-G   Sen-G   Blum &…      32\n",
      " 5   63632    117103    1738  1998 1998… NY      Sen-G   Sen-G   Garin-…     113\n",
      " 6   26255     31495    1741  1998 1998… OH      Sen-G   Sen-G   Univer…     346\n",
      " 7   64053    117875    1966  1998 1998… ID-1    House-G House-G Garin-…     113\n",
      " 8   64053    117876    1967  1998 1998… ID-2    House-G House-G Garin-…     113\n",
      " 9   28268     33546    8661  1998 1998… US      House-G House-G CBS Ne…      36\n",
      "10   28267     33545    8661  1998 1998… US      House-G House-G Zogby …     395\n",
      "# … with 10,766 more rows, 21 more variables: methodology <chr>,\n",
      "#   partisan <chr>, polldate <chr>, samplesize <dbl>, cand1_name <chr>,\n",
      "#   cand1_id <dbl>, cand1_party <chr>, cand1_pct <dbl>, cand2_name <chr>,\n",
      "#   cand2_id <dbl>, cand2_party <chr>, cand2_pct <dbl>, cand3_pct <dbl>,\n",
      "#   margin_poll <dbl>, electiondate <chr>, cand1_actual <dbl>,\n",
      "#   cand2_actual <dbl>, margin_actual <dbl>, bias <dbl>, rightcall <dbl>,\n",
      "#   comment <chr>, and abbreviated variable names ¹​question_id, ²​location, …\n",
      "# ℹ Use `print(n = ...)` to see more rows, and `colnames()` to see all variable names\n"
     ]
    }
   ],
   "source": [
    "%%R\n",
    "\n",
    "df <- read_csv('raw-polls.csv')\n",
    "\n",
    "df"
   ]
  },
  {
   "cell_type": "markdown",
   "metadata": {},
   "source": [
    "# Guided Exploration\n",
    "\n",
    "In this section you'll make a few charts to explore the data. Here I will raise some questions for you to dig around in the data and answer. You can use summary statistics and/or charts to help answer the questions. You will have to make some methodological choices along the way. Be aware of what choices you're making! I'll ask you about them shortly.\n",
    "\n",
    "\n",
    "## Question 1: How accurate are polls from the following pollsters?\n",
    "Characterize the accuracy of each of these pollsters in a sentence or two. Then, write another few sentences justifying your characterization with insights from the data.\n",
    "- Siena College/The New York Times Upshot\n",
    "- Jayhawk Consulting\n",
    "- Fox News/Beacon Research/Shaw & Co. Research\n",
    "- Brown University\n",
    "- American Research Group\n"
   ]
  },
  {
   "cell_type": "markdown",
   "metadata": {},
   "source": [
    "👉 **Siena College/The New York Times Upshot** "
   ]
  },
  {
   "cell_type": "code",
   "execution_count": 40,
   "metadata": {},
   "outputs": [
    {
     "data": {
      "text/plain": [
       "SurveyUSA                                          834\n",
       "Rasmussen Reports/Pulse Opinion Research           748\n",
       "Zogby Interactive/JZ Analytics                     477\n",
       "YouGov                                             455\n",
       "Public Policy Polling                              454\n",
       "                                                  ... \n",
       "Iona College                                         1\n",
       "Rivercity Polling                                    1\n",
       "The Polling Company Inc./National Research Inc.      1\n",
       "Schoen Cooperman Research                            1\n",
       "Dynamics Marketing                                   1\n",
       "Name: pollster, Length: 493, dtype: int64"
      ]
     },
     "execution_count": 40,
     "metadata": {},
     "output_type": "execute_result"
    }
   ],
   "source": [
    "df.pollster.value_counts()\n"
   ]
  },
  {
   "cell_type": "code",
   "execution_count": 41,
   "metadata": {},
   "outputs": [
    {
     "data": {
      "text/plain": [
       "1.4229268292682928"
      ]
     },
     "execution_count": 41,
     "metadata": {},
     "output_type": "execute_result"
    }
   ],
   "source": [
    "\n",
    "# Siena College/The New York Times Upshot\n",
    "\n",
    "filter = df.pollster == 'Siena College/The New York Times Upshot'\n",
    "Sena_NYT = df[filter]['bias'].mean()\n",
    "Sena_NYT\n"
   ]
  },
  {
   "cell_type": "markdown",
   "metadata": {},
   "source": [
    "👉 **Jayhawk Consulting**"
   ]
  },
  {
   "cell_type": "code",
   "execution_count": 35,
   "metadata": {},
   "outputs": [],
   "source": [
    "filter_2 = df.pollster == 'Jayhawk Consulting Services'\n",
    "Jayhawk = df[filter_2]['bias'].mean()\n",
    "\n"
   ]
  },
  {
   "cell_type": "code",
   "execution_count": null,
   "metadata": {},
   "outputs": [],
   "source": []
  },
  {
   "cell_type": "markdown",
   "metadata": {},
   "source": [
    "👉 **Fox News/Beacon Research/Shaw & Co. Research**"
   ]
  },
  {
   "cell_type": "code",
   "execution_count": 42,
   "metadata": {},
   "outputs": [],
   "source": [
    "\n",
    "filter_3 = df.pollster == 'Fox News/Beacon Research/Shaw & Co. Research'\n",
    "Fox = df[filter_3]['bias'].mean()\n"
   ]
  },
  {
   "cell_type": "code",
   "execution_count": null,
   "metadata": {},
   "outputs": [],
   "source": []
  },
  {
   "cell_type": "markdown",
   "metadata": {},
   "source": [
    "👉 **Brown University**"
   ]
  },
  {
   "cell_type": "code",
   "execution_count": 44,
   "metadata": {},
   "outputs": [
    {
     "data": {
      "text/plain": [
       "-2.212857142857143"
      ]
     },
     "execution_count": 44,
     "metadata": {},
     "output_type": "execute_result"
    }
   ],
   "source": [
    "\n",
    "filter_4 = df.pollster == 'Brown University'\n",
    "Brown = df[filter_4]['bias'].mean()\n",
    "Brown"
   ]
  },
  {
   "cell_type": "code",
   "execution_count": null,
   "metadata": {},
   "outputs": [],
   "source": []
  },
  {
   "cell_type": "markdown",
   "metadata": {},
   "source": [
    "👉 **American Research Group**"
   ]
  },
  {
   "cell_type": "code",
   "execution_count": 45,
   "metadata": {},
   "outputs": [
    {
     "data": {
      "text/plain": [
       "0.11302325581395348"
      ]
     },
     "execution_count": 45,
     "metadata": {},
     "output_type": "execute_result"
    }
   ],
   "source": [
    "\n",
    "filter_5 = df.pollster == 'American Research Group'\n",
    "American = df[filter_5]['bias'].mean()\n",
    "American"
   ]
  },
  {
   "cell_type": "code",
   "execution_count": 48,
   "metadata": {},
   "outputs": [
    {
     "data": {
      "text/html": [
       "<div>\n",
       "<style scoped>\n",
       "    .dataframe tbody tr th:only-of-type {\n",
       "        vertical-align: middle;\n",
       "    }\n",
       "\n",
       "    .dataframe tbody tr th {\n",
       "        vertical-align: top;\n",
       "    }\n",
       "\n",
       "    .dataframe thead th {\n",
       "        text-align: right;\n",
       "    }\n",
       "</style>\n",
       "<table border=\"1\" class=\"dataframe\">\n",
       "  <thead>\n",
       "    <tr style=\"text-align: right;\">\n",
       "      <th></th>\n",
       "      <th>pollster</th>\n",
       "      <th>bias</th>\n",
       "    </tr>\n",
       "  </thead>\n",
       "  <tbody>\n",
       "    <tr>\n",
       "      <th>0</th>\n",
       "      <td>Siena College/The New York Times Upshot</td>\n",
       "      <td>1.422927</td>\n",
       "    </tr>\n",
       "    <tr>\n",
       "      <th>1</th>\n",
       "      <td>Jayhawk Consulting</td>\n",
       "      <td>37.615000</td>\n",
       "    </tr>\n",
       "    <tr>\n",
       "      <th>2</th>\n",
       "      <td>Fox News/Beacon Research/Shaw &amp; Co. Research</td>\n",
       "      <td>3.073226</td>\n",
       "    </tr>\n",
       "    <tr>\n",
       "      <th>3</th>\n",
       "      <td>Brown University</td>\n",
       "      <td>-2.212857</td>\n",
       "    </tr>\n",
       "    <tr>\n",
       "      <th>4</th>\n",
       "      <td>American Research Group</td>\n",
       "      <td>0.113023</td>\n",
       "    </tr>\n",
       "  </tbody>\n",
       "</table>\n",
       "</div>"
      ],
      "text/plain": [
       "                                       pollster       bias\n",
       "0       Siena College/The New York Times Upshot   1.422927\n",
       "1                            Jayhawk Consulting  37.615000\n",
       "2  Fox News/Beacon Research/Shaw & Co. Research   3.073226\n",
       "3                              Brown University  -2.212857\n",
       "4                       American Research Group   0.113023"
      ]
     },
     "execution_count": 48,
     "metadata": {},
     "output_type": "execute_result"
    }
   ],
   "source": [
    "ranking = pd.DataFrame({'pollster': ['Siena College/The New York Times Upshot', 'Jayhawk Consulting', 'Fox News/Beacon Research/Shaw & Co. Research', 'Brown University', 'American Research Group'], 'bias': [Sena_NYT, Jayhawk, Fox, Brown, American]})\n",
    "ranking\n",
    "\n",
    "# American Research Group is the pollster with the least bias among all five pollsters, because it has the lowest average bias from all the polls it has conducted."
   ]
  },
  {
   "cell_type": "markdown",
   "metadata": {},
   "source": [
    "### Question 2: Which pollsters are the most accurate? Which are the least accurate?"
   ]
  },
  {
   "cell_type": "markdown",
   "metadata": {},
   "source": [
    "👉 Which pollsters are the most accurate?"
   ]
  },
  {
   "cell_type": "code",
   "execution_count": null,
   "metadata": {},
   "outputs": [],
   "source": []
  },
  {
   "cell_type": "code",
   "execution_count": null,
   "metadata": {},
   "outputs": [],
   "source": []
  },
  {
   "cell_type": "code",
   "execution_count": null,
   "metadata": {},
   "outputs": [],
   "source": []
  },
  {
   "cell_type": "markdown",
   "metadata": {},
   "source": [
    "👉 Which are the least accurate?"
   ]
  },
  {
   "cell_type": "code",
   "execution_count": null,
   "metadata": {},
   "outputs": [],
   "source": []
  },
  {
   "cell_type": "code",
   "execution_count": null,
   "metadata": {},
   "outputs": [],
   "source": []
  },
  {
   "cell_type": "code",
   "execution_count": null,
   "metadata": {},
   "outputs": [],
   "source": []
  },
  {
   "cell_type": "markdown",
   "metadata": {},
   "source": [
    "### Question 2 Reflections"
   ]
  },
  {
   "cell_type": "markdown",
   "metadata": {},
   "source": [
    "👉 Write a summary paragraph explaining how you decided what constitutes “most accurate” and \"least accurate\"?\n"
   ]
  },
  {
   "cell_type": "code",
   "execution_count": null,
   "metadata": {},
   "outputs": [],
   "source": []
  },
  {
   "cell_type": "markdown",
   "metadata": {},
   "source": [
    "👉 In bullet point form, name **methodological choices** you made in the process of determining which pollsters were the most and least accurate.\n"
   ]
  },
  {
   "cell_type": "code",
   "execution_count": null,
   "metadata": {},
   "outputs": [],
   "source": []
  },
  {
   "cell_type": "markdown",
   "metadata": {},
   "source": [
    "👉 In bullet point form, list the **limitations** of your approach \n"
   ]
  },
  {
   "cell_type": "code",
   "execution_count": null,
   "metadata": {},
   "outputs": [],
   "source": []
  }
 ],
 "metadata": {
  "kernelspec": {
   "display_name": "Python 3",
   "language": "python",
   "name": "python3"
  },
  "language_info": {
   "codemirror_mode": {
    "name": "ipython",
    "version": 3
   },
   "file_extension": ".py",
   "mimetype": "text/x-python",
   "name": "python",
   "nbconvert_exporter": "python",
   "pygments_lexer": "ipython3",
   "version": "3.11.0rc2"
  },
  "vscode": {
   "interpreter": {
    "hash": "e90d6f730404473425c714071b0fe103c0a531102113070eae46c99bdeea19ae"
   }
  }
 },
 "nbformat": 4,
 "nbformat_minor": 4
}
