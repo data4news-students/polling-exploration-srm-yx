{
 "cells": [
  {
   "cell_type": "markdown",
   "metadata": {},
   "source": [
    "# Python and R"
   ]
  },
  {
   "cell_type": "code",
   "execution_count": 2,
   "metadata": {},
   "outputs": [
    {
     "name": "stdout",
     "output_type": "stream",
     "text": [
      "The rpy2.ipython extension is already loaded. To reload it, use:\n",
      "  %reload_ext rpy2.ipython\n",
      "The autoreload extension is already loaded. To reload it, use:\n",
      "  %reload_ext autoreload\n"
     ]
    }
   ],
   "source": [
    "%load_ext rpy2.ipython\n",
    "%load_ext autoreload\n",
    "%autoreload 2\n",
    "\n",
    "%matplotlib inline  \n",
    "from matplotlib import rcParams\n",
    "rcParams['figure.figsize'] = (16, 100)\n",
    "\n",
    "import warnings\n",
    "from rpy2.rinterface import RRuntimeWarning\n",
    "warnings.filterwarnings(\"ignore\") # Ignore all warnings\n",
    "# warnings.filterwarnings(\"ignore\", category=RRuntimeWarning) # Show some warnings\n",
    "\n",
    "import pandas as pd\n",
    "import numpy as np\n",
    "import matplotlib.pyplot as plt\n",
    "from IPython.display import display, HTML\n",
    "\n",
    "# show all columns on pandas dataframes\n",
    "pd.set_option('display.max_columns', None)\n"
   ]
  },
  {
   "cell_type": "code",
   "execution_count": 3,
   "metadata": {},
   "outputs": [
    {
     "data": {
      "application/javascript": "// Disable auto-scrolling\nIPython.OutputArea.prototype._should_scroll = function(lines) {\n    return false;\n}\n",
      "text/plain": [
       "<IPython.core.display.Javascript object>"
      ]
     },
     "metadata": {},
     "output_type": "display_data"
    }
   ],
   "source": [
    "%%javascript\n",
    "// Disable auto-scrolling\n",
    "IPython.OutputArea.prototype._should_scroll = function(lines) {\n",
    "    return false;\n",
    "}"
   ]
  },
  {
   "cell_type": "code",
   "execution_count": 4,
   "metadata": {},
   "outputs": [
    {
     "name": "stderr",
     "output_type": "stream",
     "text": [
      "R[write to console]: Loading required package: tidyverse\n",
      "\n"
     ]
    },
    {
     "name": "stdout",
     "output_type": "stream",
     "text": [
      "── Attaching packages ─────────────────────────────────────── tidyverse 1.3.2 ──\n",
      "✔ ggplot2 3.4.0      ✔ purrr   0.3.5 \n",
      "✔ tibble  3.1.8      ✔ dplyr   1.0.10\n",
      "✔ tidyr   1.2.1      ✔ stringr 1.4.1 \n",
      "✔ readr   2.1.3      ✔ forcats 0.5.2 \n",
      "── Conflicts ────────────────────────────────────────── tidyverse_conflicts() ──\n",
      "✖ dplyr::filter() masks stats::filter()\n",
      "✖ dplyr::lag()    masks stats::lag()\n"
     ]
    }
   ],
   "source": [
    "%%R\n",
    "\n",
    "# My commonly used R imports\n",
    "\n",
    "require('tidyverse')\n"
   ]
  },
  {
   "cell_type": "markdown",
   "metadata": {},
   "source": [
    "\n",
    "# Read the data\n",
    "\n"
   ]
  },
  {
   "cell_type": "markdown",
   "metadata": {},
   "source": [
    "The cell below loads the data in python:"
   ]
  },
  {
   "cell_type": "code",
   "execution_count": 5,
   "metadata": {},
   "outputs": [
    {
     "data": {
      "text/html": [
       "<div>\n",
       "<style scoped>\n",
       "    .dataframe tbody tr th:only-of-type {\n",
       "        vertical-align: middle;\n",
       "    }\n",
       "\n",
       "    .dataframe tbody tr th {\n",
       "        vertical-align: top;\n",
       "    }\n",
       "\n",
       "    .dataframe thead th {\n",
       "        text-align: right;\n",
       "    }\n",
       "</style>\n",
       "<table border=\"1\" class=\"dataframe\">\n",
       "  <thead>\n",
       "    <tr style=\"text-align: right;\">\n",
       "      <th></th>\n",
       "      <th>poll_id</th>\n",
       "      <th>question_id</th>\n",
       "      <th>race_id</th>\n",
       "      <th>year</th>\n",
       "      <th>race</th>\n",
       "      <th>location</th>\n",
       "      <th>type_simple</th>\n",
       "      <th>type_detail</th>\n",
       "      <th>pollster</th>\n",
       "      <th>pollster_rating_id</th>\n",
       "      <th>methodology</th>\n",
       "      <th>partisan</th>\n",
       "      <th>polldate</th>\n",
       "      <th>samplesize</th>\n",
       "      <th>cand1_name</th>\n",
       "      <th>cand1_id</th>\n",
       "      <th>cand1_party</th>\n",
       "      <th>cand1_pct</th>\n",
       "      <th>cand2_name</th>\n",
       "      <th>cand2_id</th>\n",
       "      <th>cand2_party</th>\n",
       "      <th>cand2_pct</th>\n",
       "      <th>cand3_pct</th>\n",
       "      <th>margin_poll</th>\n",
       "      <th>electiondate</th>\n",
       "      <th>cand1_actual</th>\n",
       "      <th>cand2_actual</th>\n",
       "      <th>margin_actual</th>\n",
       "      <th>bias</th>\n",
       "      <th>rightcall</th>\n",
       "      <th>comment</th>\n",
       "    </tr>\n",
       "  </thead>\n",
       "  <tbody>\n",
       "    <tr>\n",
       "      <th>4519</th>\n",
       "      <td>64342</td>\n",
       "      <td>118331</td>\n",
       "      <td>4342</td>\n",
       "      <td>2008</td>\n",
       "      <td>2008_House-G_OH-15</td>\n",
       "      <td>OH-15</td>\n",
       "      <td>House-G</td>\n",
       "      <td>House-G</td>\n",
       "      <td>SurveyUSA</td>\n",
       "      <td>325</td>\n",
       "      <td>IVR</td>\n",
       "      <td>NaN</td>\n",
       "      <td>10/26/08</td>\n",
       "      <td>632.0</td>\n",
       "      <td>Mary Jo Kilroy</td>\n",
       "      <td>13948</td>\n",
       "      <td>DEM</td>\n",
       "      <td>47.0</td>\n",
       "      <td>Steve Stivers</td>\n",
       "      <td>13949</td>\n",
       "      <td>REP</td>\n",
       "      <td>41.0</td>\n",
       "      <td>2.00</td>\n",
       "      <td>6.0</td>\n",
       "      <td>11/4/08</td>\n",
       "      <td>45.94</td>\n",
       "      <td>45.18</td>\n",
       "      <td>0.76</td>\n",
       "      <td>5.24</td>\n",
       "      <td>1.0</td>\n",
       "      <td>for WCMH-TV Columbus</td>\n",
       "    </tr>\n",
       "    <tr>\n",
       "      <th>5935</th>\n",
       "      <td>14374</td>\n",
       "      <td>18847</td>\n",
       "      <td>7466</td>\n",
       "      <td>2012</td>\n",
       "      <td>2012_Pres-R_GA</td>\n",
       "      <td>GA</td>\n",
       "      <td>Pres-P</td>\n",
       "      <td>Pres-R</td>\n",
       "      <td>Mason-Dixon Polling &amp; Strategy</td>\n",
       "      <td>197</td>\n",
       "      <td>Live Phone</td>\n",
       "      <td>NaN</td>\n",
       "      <td>3/1/12</td>\n",
       "      <td>625.0</td>\n",
       "      <td>Newt Gingrich</td>\n",
       "      <td>3</td>\n",
       "      <td>REP</td>\n",
       "      <td>38.0</td>\n",
       "      <td>Mitt Romney</td>\n",
       "      <td>9</td>\n",
       "      <td>REP</td>\n",
       "      <td>24.0</td>\n",
       "      <td>22.00</td>\n",
       "      <td>14.0</td>\n",
       "      <td>3/6/12</td>\n",
       "      <td>47.19</td>\n",
       "      <td>25.91</td>\n",
       "      <td>21.27</td>\n",
       "      <td>NaN</td>\n",
       "      <td>1.0</td>\n",
       "      <td>for Atlanta Journal-Constitution</td>\n",
       "    </tr>\n",
       "    <tr>\n",
       "      <th>8031</th>\n",
       "      <td>47087</td>\n",
       "      <td>73700</td>\n",
       "      <td>71</td>\n",
       "      <td>2016</td>\n",
       "      <td>2016_Sen-G_WI</td>\n",
       "      <td>WI</td>\n",
       "      <td>Sen-G</td>\n",
       "      <td>Sen-G</td>\n",
       "      <td>Public Policy Polling</td>\n",
       "      <td>263</td>\n",
       "      <td>IVR</td>\n",
       "      <td>D</td>\n",
       "      <td>10/19/16</td>\n",
       "      <td>804.0</td>\n",
       "      <td>Russ Feingold</td>\n",
       "      <td>8971</td>\n",
       "      <td>DEM</td>\n",
       "      <td>47.0</td>\n",
       "      <td>Ron Johnson</td>\n",
       "      <td>8972</td>\n",
       "      <td>REP</td>\n",
       "      <td>41.0</td>\n",
       "      <td>NaN</td>\n",
       "      <td>6.0</td>\n",
       "      <td>11/8/16</td>\n",
       "      <td>46.81</td>\n",
       "      <td>50.17</td>\n",
       "      <td>-3.36</td>\n",
       "      <td>9.36</td>\n",
       "      <td>0.0</td>\n",
       "      <td>for unspecified Democratic sponsor</td>\n",
       "    </tr>\n",
       "    <tr>\n",
       "      <th>3770</th>\n",
       "      <td>2352</td>\n",
       "      <td>2929</td>\n",
       "      <td>7406</td>\n",
       "      <td>2008</td>\n",
       "      <td>2008_Pres-D_TX</td>\n",
       "      <td>TX</td>\n",
       "      <td>Pres-P</td>\n",
       "      <td>Pres-D</td>\n",
       "      <td>Zogby Interactive/JZ Analytics</td>\n",
       "      <td>395</td>\n",
       "      <td>Live Phone</td>\n",
       "      <td>NaN</td>\n",
       "      <td>3/2/08</td>\n",
       "      <td>855.0</td>\n",
       "      <td>Hillary Rodham Clinton</td>\n",
       "      <td>45</td>\n",
       "      <td>DEM</td>\n",
       "      <td>47.0</td>\n",
       "      <td>Barack Obama</td>\n",
       "      <td>41</td>\n",
       "      <td>DEM</td>\n",
       "      <td>44.0</td>\n",
       "      <td>NaN</td>\n",
       "      <td>3.0</td>\n",
       "      <td>3/4/08</td>\n",
       "      <td>50.88</td>\n",
       "      <td>47.39</td>\n",
       "      <td>3.49</td>\n",
       "      <td>NaN</td>\n",
       "      <td>1.0</td>\n",
       "      <td>NaN</td>\n",
       "    </tr>\n",
       "    <tr>\n",
       "      <th>5747</th>\n",
       "      <td>51764</td>\n",
       "      <td>81852</td>\n",
       "      <td>4605</td>\n",
       "      <td>2010</td>\n",
       "      <td>2010_House-G_IL-17</td>\n",
       "      <td>IL-17</td>\n",
       "      <td>House-G</td>\n",
       "      <td>House-G</td>\n",
       "      <td>We Ask America</td>\n",
       "      <td>376</td>\n",
       "      <td>IVR</td>\n",
       "      <td>NaN</td>\n",
       "      <td>10/31/10</td>\n",
       "      <td>1103.0</td>\n",
       "      <td>Philip G. Hare</td>\n",
       "      <td>10790</td>\n",
       "      <td>DEM</td>\n",
       "      <td>43.7</td>\n",
       "      <td>Robert Schilling</td>\n",
       "      <td>10789</td>\n",
       "      <td>REP</td>\n",
       "      <td>51.7</td>\n",
       "      <td>4.49</td>\n",
       "      <td>-8.0</td>\n",
       "      <td>11/2/10</td>\n",
       "      <td>42.96</td>\n",
       "      <td>52.58</td>\n",
       "      <td>-9.62</td>\n",
       "      <td>1.62</td>\n",
       "      <td>1.0</td>\n",
       "      <td>NaN</td>\n",
       "    </tr>\n",
       "  </tbody>\n",
       "</table>\n",
       "</div>"
      ],
      "text/plain": [
       "      poll_id  question_id  race_id  year                race location  \\\n",
       "4519    64342       118331     4342  2008  2008_House-G_OH-15    OH-15   \n",
       "5935    14374        18847     7466  2012      2012_Pres-R_GA       GA   \n",
       "8031    47087        73700       71  2016       2016_Sen-G_WI       WI   \n",
       "3770     2352         2929     7406  2008      2008_Pres-D_TX       TX   \n",
       "5747    51764        81852     4605  2010  2010_House-G_IL-17    IL-17   \n",
       "\n",
       "     type_simple type_detail                        pollster  \\\n",
       "4519     House-G     House-G                       SurveyUSA   \n",
       "5935      Pres-P      Pres-R  Mason-Dixon Polling & Strategy   \n",
       "8031       Sen-G       Sen-G           Public Policy Polling   \n",
       "3770      Pres-P      Pres-D  Zogby Interactive/JZ Analytics   \n",
       "5747     House-G     House-G                  We Ask America   \n",
       "\n",
       "      pollster_rating_id methodology partisan  polldate  samplesize  \\\n",
       "4519                 325         IVR      NaN  10/26/08       632.0   \n",
       "5935                 197  Live Phone      NaN    3/1/12       625.0   \n",
       "8031                 263         IVR        D  10/19/16       804.0   \n",
       "3770                 395  Live Phone      NaN    3/2/08       855.0   \n",
       "5747                 376         IVR      NaN  10/31/10      1103.0   \n",
       "\n",
       "                  cand1_name  cand1_id cand1_party  cand1_pct  \\\n",
       "4519          Mary Jo Kilroy     13948         DEM       47.0   \n",
       "5935           Newt Gingrich         3         REP       38.0   \n",
       "8031           Russ Feingold      8971         DEM       47.0   \n",
       "3770  Hillary Rodham Clinton        45         DEM       47.0   \n",
       "5747          Philip G. Hare     10790         DEM       43.7   \n",
       "\n",
       "            cand2_name  cand2_id cand2_party  cand2_pct  cand3_pct  \\\n",
       "4519     Steve Stivers     13949         REP       41.0       2.00   \n",
       "5935       Mitt Romney         9         REP       24.0      22.00   \n",
       "8031       Ron Johnson      8972         REP       41.0        NaN   \n",
       "3770      Barack Obama        41         DEM       44.0        NaN   \n",
       "5747  Robert Schilling     10789         REP       51.7       4.49   \n",
       "\n",
       "      margin_poll electiondate  cand1_actual  cand2_actual  margin_actual  \\\n",
       "4519          6.0      11/4/08         45.94         45.18           0.76   \n",
       "5935         14.0       3/6/12         47.19         25.91          21.27   \n",
       "8031          6.0      11/8/16         46.81         50.17          -3.36   \n",
       "3770          3.0       3/4/08         50.88         47.39           3.49   \n",
       "5747         -8.0      11/2/10         42.96         52.58          -9.62   \n",
       "\n",
       "      bias  rightcall                             comment  \n",
       "4519  5.24        1.0                for WCMH-TV Columbus  \n",
       "5935   NaN        1.0    for Atlanta Journal-Constitution  \n",
       "8031  9.36        0.0  for unspecified Democratic sponsor  \n",
       "3770   NaN        1.0                                 NaN  \n",
       "5747  1.62        1.0                                 NaN  "
      ]
     },
     "execution_count": 5,
     "metadata": {},
     "output_type": "execute_result"
    }
   ],
   "source": [
    "df = pd.read_csv('raw-polls.csv')\n",
    "df.sample(5)"
   ]
  },
  {
   "cell_type": "markdown",
   "metadata": {},
   "source": [
    "The cell below loads the same data in R:"
   ]
  },
  {
   "cell_type": "code",
   "execution_count": 6,
   "metadata": {},
   "outputs": [
    {
     "name": "stdout",
     "output_type": "stream",
     "text": [
      "Rows: 10776 Columns: 31\n",
      "── Column specification ────────────────────────────────────────────────────────\n",
      "Delimiter: \",\"\n",
      "chr (14): race, location, type_simple, type_detail, pollster, methodology, p...\n",
      "dbl (17): poll_id, question_id, race_id, year, pollster_rating_id, samplesiz...\n",
      "\n",
      "ℹ Use `spec()` to retrieve the full column specification for this data.\n",
      "ℹ Specify the column types or set `show_col_types = FALSE` to quiet this message.\n",
      "# A tibble: 10,776 × 31\n",
      "   poll_id questio…¹ race_id  year race  locat…² type_…³ type_…⁴ polls…⁵ polls…⁶\n",
      "     <dbl>     <dbl>   <dbl> <dbl> <chr> <chr>   <chr>   <chr>   <chr>     <dbl>\n",
      " 1   26013     87909    1455  1998 1998… NY      Gov-G   Gov-G   Blum &…      32\n",
      " 2   26255     87926    1456  1998 1998… OH      Gov-G   Gov-G   Univer…     346\n",
      " 3   26026     31266    1736  1998 1998… NV      Sen-G   Sen-G   FM3 Re…      91\n",
      " 4   26013     31253    1738  1998 1998… NY      Sen-G   Sen-G   Blum &…      32\n",
      " 5   63632    117103    1738  1998 1998… NY      Sen-G   Sen-G   Garin-…     113\n",
      " 6   26255     31495    1741  1998 1998… OH      Sen-G   Sen-G   Univer…     346\n",
      " 7   64053    117875    1966  1998 1998… ID-1    House-G House-G Garin-…     113\n",
      " 8   64053    117876    1967  1998 1998… ID-2    House-G House-G Garin-…     113\n",
      " 9   28268     33546    8661  1998 1998… US      House-G House-G CBS Ne…      36\n",
      "10   28267     33545    8661  1998 1998… US      House-G House-G Zogby …     395\n",
      "# … with 10,766 more rows, 21 more variables: methodology <chr>,\n",
      "#   partisan <chr>, polldate <chr>, samplesize <dbl>, cand1_name <chr>,\n",
      "#   cand1_id <dbl>, cand1_party <chr>, cand1_pct <dbl>, cand2_name <chr>,\n",
      "#   cand2_id <dbl>, cand2_party <chr>, cand2_pct <dbl>, cand3_pct <dbl>,\n",
      "#   margin_poll <dbl>, electiondate <chr>, cand1_actual <dbl>,\n",
      "#   cand2_actual <dbl>, margin_actual <dbl>, bias <dbl>, rightcall <dbl>,\n",
      "#   comment <chr>, and abbreviated variable names ¹​question_id, ²​location, …\n",
      "# ℹ Use `print(n = ...)` to see more rows, and `colnames()` to see all variable names\n"
     ]
    }
   ],
   "source": [
    "%%R\n",
    "\n",
    "df <- read_csv('raw-polls.csv')\n",
    "\n",
    "df"
   ]
  },
  {
   "cell_type": "markdown",
   "metadata": {},
   "source": [
    "# Guided Exploration\n",
    "\n",
    "In this section you'll make a few charts to explore the data. Here I will raise some questions for you to dig around in the data and answer. You can use summary statistics and/or charts to help answer the questions. You will have to make some methodological choices along the way. Be aware of what choices you're making! I'll ask you about them shortly.\n",
    "\n",
    "\n",
    "## Question 1: How accurate are polls from the following pollsters?\n",
    "Characterize the accuracy of each of these pollsters in a sentence or two. Then, write another few sentences justifying your characterization with insights from the data.\n",
    "- Siena College/The New York Times Upshot\n",
    "- Jayhawk Consulting\n",
    "- Fox News/Beacon Research/Shaw & Co. Research\n",
    "- Brown University\n",
    "- American Research Group\n"
   ]
  },
  {
   "cell_type": "markdown",
   "metadata": {},
   "source": [
    "👉 **Siena College/The New York Times Upshot** "
   ]
  },
  {
   "cell_type": "code",
   "execution_count": 7,
   "metadata": {},
   "outputs": [],
   "source": [
    "#get rid of the rows with samplesize below 600\n",
    "df_600 = df[df['samplesize'] >= 600]\n"
   ]
  },
  {
   "cell_type": "code",
   "execution_count": 8,
   "metadata": {},
   "outputs": [
    {
     "name": "stdout",
     "output_type": "stream",
     "text": [
      "NULL\n"
     ]
    }
   ],
   "source": [
    "%%R -i df_600\n",
    "\n",
    "\n"
   ]
  },
  {
   "cell_type": "code",
   "execution_count": 9,
   "metadata": {},
   "outputs": [
    {
     "data": {
      "text/plain": [
       "4.526410256410257"
      ]
     },
     "execution_count": 9,
     "metadata": {},
     "output_type": "execute_result"
    }
   ],
   "source": [
    "\n",
    "# Siena College/The New York Times Upshot\n",
    "\n",
    "filter = df_600.pollster == 'Siena College/The New York Times Upshot'\n",
    "Sena_NYT = df_600[filter]['bias'].mean()\n",
    "Sena_NYT\n"
   ]
  },
  {
   "cell_type": "markdown",
   "metadata": {},
   "source": [
    "👉 **Jayhawk Consulting**"
   ]
  },
  {
   "cell_type": "code",
   "execution_count": 10,
   "metadata": {},
   "outputs": [
    {
     "data": {
      "text/plain": [
       "32.29"
      ]
     },
     "execution_count": 10,
     "metadata": {},
     "output_type": "execute_result"
    }
   ],
   "source": [
    "filter_2 = df_600.pollster == 'Jayhawk Consulting Services'\n",
    "Jayhawk = df_600[filter_2]['bias'].mean()\n",
    "\n",
    "Jayhawk"
   ]
  },
  {
   "cell_type": "code",
   "execution_count": null,
   "metadata": {},
   "outputs": [],
   "source": []
  },
  {
   "cell_type": "markdown",
   "metadata": {},
   "source": [
    "👉 **Fox News/Beacon Research/Shaw & Co. Research**"
   ]
  },
  {
   "cell_type": "code",
   "execution_count": 11,
   "metadata": {},
   "outputs": [
    {
     "data": {
      "text/plain": [
       "3.073225806451613"
      ]
     },
     "execution_count": 11,
     "metadata": {},
     "output_type": "execute_result"
    }
   ],
   "source": [
    "\n",
    "filter_3 = df_600.pollster == 'Fox News/Beacon Research/Shaw & Co. Research'\n",
    "Fox = df_600[filter_3]['bias'].mean()\n",
    "Fox"
   ]
  },
  {
   "cell_type": "code",
   "execution_count": null,
   "metadata": {},
   "outputs": [],
   "source": []
  },
  {
   "cell_type": "markdown",
   "metadata": {},
   "source": [
    "👉 **Brown University**"
   ]
  },
  {
   "cell_type": "code",
   "execution_count": 12,
   "metadata": {},
   "outputs": [
    {
     "data": {
      "text/plain": [
       "6.63"
      ]
     },
     "execution_count": 12,
     "metadata": {},
     "output_type": "execute_result"
    }
   ],
   "source": [
    "\n",
    "filter_4 = df_600.pollster == 'Brown University'\n",
    "Brown = df_600[filter_4]['bias'].mean()\n",
    "Brown"
   ]
  },
  {
   "cell_type": "code",
   "execution_count": null,
   "metadata": {},
   "outputs": [],
   "source": []
  },
  {
   "cell_type": "markdown",
   "metadata": {},
   "source": [
    "👉 **American Research Group**"
   ]
  },
  {
   "cell_type": "code",
   "execution_count": 13,
   "metadata": {},
   "outputs": [
    {
     "data": {
      "text/plain": [
       "0.11116883116883129"
      ]
     },
     "execution_count": 13,
     "metadata": {},
     "output_type": "execute_result"
    }
   ],
   "source": [
    "\n",
    "filter_5 = df_600.pollster == 'American Research Group'\n",
    "American = df_600[filter_5]['bias'].mean()\n",
    "American"
   ]
  },
  {
   "cell_type": "code",
   "execution_count": 14,
   "metadata": {},
   "outputs": [
    {
     "data": {
      "text/html": [
       "<div>\n",
       "<style scoped>\n",
       "    .dataframe tbody tr th:only-of-type {\n",
       "        vertical-align: middle;\n",
       "    }\n",
       "\n",
       "    .dataframe tbody tr th {\n",
       "        vertical-align: top;\n",
       "    }\n",
       "\n",
       "    .dataframe thead th {\n",
       "        text-align: right;\n",
       "    }\n",
       "</style>\n",
       "<table border=\"1\" class=\"dataframe\">\n",
       "  <thead>\n",
       "    <tr style=\"text-align: right;\">\n",
       "      <th></th>\n",
       "      <th>pollster</th>\n",
       "      <th>bias</th>\n",
       "    </tr>\n",
       "  </thead>\n",
       "  <tbody>\n",
       "    <tr>\n",
       "      <th>0</th>\n",
       "      <td>Siena College/The New York Times Upshot</td>\n",
       "      <td>4.526410</td>\n",
       "    </tr>\n",
       "    <tr>\n",
       "      <th>1</th>\n",
       "      <td>Jayhawk Consulting</td>\n",
       "      <td>32.290000</td>\n",
       "    </tr>\n",
       "    <tr>\n",
       "      <th>2</th>\n",
       "      <td>Fox News/Beacon Research/Shaw &amp; Co. Research</td>\n",
       "      <td>3.073226</td>\n",
       "    </tr>\n",
       "    <tr>\n",
       "      <th>3</th>\n",
       "      <td>Brown University</td>\n",
       "      <td>6.630000</td>\n",
       "    </tr>\n",
       "    <tr>\n",
       "      <th>4</th>\n",
       "      <td>American Research Group</td>\n",
       "      <td>0.111169</td>\n",
       "    </tr>\n",
       "  </tbody>\n",
       "</table>\n",
       "</div>"
      ],
      "text/plain": [
       "                                       pollster       bias\n",
       "0       Siena College/The New York Times Upshot   4.526410\n",
       "1                            Jayhawk Consulting  32.290000\n",
       "2  Fox News/Beacon Research/Shaw & Co. Research   3.073226\n",
       "3                              Brown University   6.630000\n",
       "4                       American Research Group   0.111169"
      ]
     },
     "execution_count": 14,
     "metadata": {},
     "output_type": "execute_result"
    }
   ],
   "source": [
    "ranking = pd.DataFrame({'pollster': ['Siena College/The New York Times Upshot', 'Jayhawk Consulting', 'Fox News/Beacon Research/Shaw & Co. Research', 'Brown University', 'American Research Group'], 'bias': [Sena_NYT, Jayhawk, Fox, Brown, American]})\n",
    "ranking\n",
    "\n",
    "# American Research Group is the pollster with the least bias among all five pollsters, because it has the lowest average bias from all the polls it has conducted."
   ]
  },
  {
   "cell_type": "markdown",
   "metadata": {},
   "source": []
  },
  {
   "cell_type": "markdown",
   "metadata": {},
   "source": []
  },
  {
   "cell_type": "markdown",
   "metadata": {},
   "source": []
  },
  {
   "cell_type": "markdown",
   "metadata": {},
   "source": [
    "### Question 2: Which pollsters are the most accurate? Which are the least accurate?"
   ]
  },
  {
   "cell_type": "markdown",
   "metadata": {},
   "source": [
    "👉 Which pollsters are the most accurate?"
   ]
  },
  {
   "cell_type": "code",
   "execution_count": 15,
   "metadata": {},
   "outputs": [],
   "source": [
    "# Emerson College is the pollster with the least bias among all five pollsters, and we believe that it is the most reliable pollster among the five. We filtered out the polls that had a sample size below 600, because we believe that the sample size is a good indicator of the reliability of the poll.\n",
    "\n",
    "# We only calculated the absolute of the average bias for the polls, becasue the democratic-leaning bias republican-leaning bias should be treated equally and \n"
   ]
  },
  {
   "cell_type": "code",
   "execution_count": 21,
   "metadata": {},
   "outputs": [
    {
     "data": {
      "image/png": "[encoded data removed]"
     },
     "metadata": {},
     "output_type": "display_data"
    }
   ],
   "source": [
    "%%R -i df_600\n",
    "\n",
    "new_df_600 <- df_600 %>% \n",
    "    filter(type_simple=='Pres-G') %>%  \n",
    "    mutate(national = location==\"US\") %>%  \n",
    "    filter(national==TRUE) %>% \n",
    "    filter(year=='2020' | year=='2016') \n",
    "\n",
    "new_df_600 %>%\n",
    "    group_by(pollster) %>%\n",
    "    summarise(mean_bias = mean(abs(bias))) %>%\n",
    "    arrange(desc(mean_bias)) %>%\n",
    "    ggplot(aes(x = pollster, y = mean_bias)) +\n",
    "    geom_col() +\n",
    "    coord_flip() +\n",
    "    labs(title = \"Pollster Bias\", x = \"Pollster\", y = \"Bias\") +\n",
    "    theme_minimal()\n",
    "\n",
    "\n",
    "# Emerson College is the pollster with the least bias among all five pollsters, because it has the lowest average bias from all the polls it has conducted.\n"
   ]
  },
  {
   "cell_type": "code",
   "execution_count": null,
   "metadata": {},
   "outputs": [],
   "source": []
  },
  {
   "cell_type": "markdown",
   "metadata": {},
   "source": [
    "👉 Which are the least accurate?"
   ]
  },
  {
   "cell_type": "code",
   "execution_count": 17,
   "metadata": {},
   "outputs": [],
   "source": [
    "# we think GBAO, GQRR and GfK Group are among the least accurate pollster because they have the highest average bias from all the polls it has conducted. "
   ]
  },
  {
   "cell_type": "code",
   "execution_count": null,
   "metadata": {},
   "outputs": [],
   "source": []
  },
  {
   "cell_type": "code",
   "execution_count": null,
   "metadata": {},
   "outputs": [],
   "source": []
  },
  {
   "cell_type": "markdown",
   "metadata": {},
   "source": [
    "### Question 2 Reflections"
   ]
  },
  {
   "cell_type": "markdown",
   "metadata": {},
   "source": [
    "👉 Write a summary paragraph explaining how you decided what constitutes “most accurate” and \"least accurate\"?\n"
   ]
  },
  {
   "cell_type": "code",
   "execution_count": 18,
   "metadata": {},
   "outputs": [],
   "source": [
    "# we use the average bias of each pollster to rank the pollsters from most reliable to least reliable. "
   ]
  },
  {
   "cell_type": "markdown",
   "metadata": {},
   "source": [
    "👉 In bullet point form, name **methodological choices** you made in the process of determining which pollsters were the most and least accurate.\n"
   ]
  },
  {
   "cell_type": "code",
   "execution_count": 19,
   "metadata": {},
   "outputs": [],
   "source": [
    "#1. We only calculated the average bias of the pollsters that had a sample size of 600 or above\n",
    "#2. We used the average of the bias of each pollster because we think the average bias is more accurate than the bias for each individual poll\n"
   ]
  },
  {
   "cell_type": "markdown",
   "metadata": {},
   "source": [
    "👉 In bullet point form, list the **limitations** of your approach \n"
   ]
  },
  {
   "cell_type": "code",
   "execution_count": 20,
   "metadata": {},
   "outputs": [],
   "source": [
    "#1. Jayhawk Consulting only has one poll that met our standard of having a sample size of 600 or above, so we have limited information to make a conclusion about Jayhawk Consulting, though the data we have is probably enough to indicate Jayhawk Consulting\tis not a reliable pollster.\n",
    "\n",
    "#2. We didn't make a plot to see the distribution of the bias of each pollster because we think the average bias is more accurate than the bias for each individual poll.\n",
    "\n",
    "#3. We didn't study on the bias change of one specific pollster over time, because some pollers might have improve their methodology over time."
   ]
  }
 ],
 "metadata": {
  "kernelspec": {
   "display_name": "Python 3",
   "language": "python",
   "name": "python3"
  },
  "language_info": {
   "codemirror_mode": {
    "name": "ipython",
    "version": 3
   },
   "file_extension": ".py",
   "mimetype": "text/x-python",
   "name": "python",
   "nbconvert_exporter": "python",
   "pygments_lexer": "ipython3",
   "version": "3.11.0rc2"
  },
  "vscode": {
   "interpreter": {
    "hash": "e90d6f730404473425c714071b0fe103c0a531102113070eae46c99bdeea19ae"
   }
  }
 },
 "nbformat": 4,
 "nbformat_minor": 4
}
