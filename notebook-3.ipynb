{
 "cells": [
  {
   "cell_type": "markdown",
   "metadata": {},
   "source": [
    "# Python and R"
   ]
  },
  {
   "cell_type": "code",
   "execution_count": 38,
   "metadata": {},
   "outputs": [
    {
     "name": "stdout",
     "output_type": "stream",
     "text": [
      "The rpy2.ipython extension is already loaded. To reload it, use:\n",
      "  %reload_ext rpy2.ipython\n",
      "The autoreload extension is already loaded. To reload it, use:\n",
      "  %reload_ext autoreload\n"
     ]
    }
   ],
   "source": [
    "%load_ext rpy2.ipython\n",
    "%load_ext autoreload\n",
    "%autoreload 2\n",
    "\n",
    "%matplotlib inline  \n",
    "from matplotlib import rcParams\n",
    "rcParams['figure.figsize'] = (16, 100)\n",
    "\n",
    "import warnings\n",
    "from rpy2.rinterface import RRuntimeWarning\n",
    "warnings.filterwarnings(\"ignore\") # Ignore all warnings\n",
    "# warnings.filterwarnings(\"ignore\", category=RRuntimeWarning) # Show some warnings\n",
    "\n",
    "import pandas as pd\n",
    "import numpy as np\n",
    "import matplotlib.pyplot as plt\n",
    "from IPython.display import display, HTML\n",
    "\n",
    "# show all columns on pandas dataframes\n",
    "pd.set_option('display.max_columns', None)\n"
   ]
  },
  {
   "cell_type": "code",
   "execution_count": 39,
   "metadata": {},
   "outputs": [
    {
     "data": {
      "application/javascript": "// Disable auto-scrolling\nIPython.OutputArea.prototype._should_scroll = function(lines) {\n    return false;\n}\n",
      "text/plain": [
       "<IPython.core.display.Javascript object>"
      ]
     },
     "metadata": {},
     "output_type": "display_data"
    }
   ],
   "source": [
    "%%javascript\n",
    "// Disable auto-scrolling\n",
    "IPython.OutputArea.prototype._should_scroll = function(lines) {\n",
    "    return false;\n",
    "}"
   ]
  },
  {
   "cell_type": "code",
   "execution_count": 40,
   "metadata": {},
   "outputs": [],
   "source": [
    "%%R\n",
    "\n",
    "# My commonly used R imports\n",
    "\n",
    "require('tidyverse')\n"
   ]
  },
  {
   "cell_type": "markdown",
   "metadata": {},
   "source": [
    "\n",
    "# Read the data\n",
    "\n"
   ]
  },
  {
   "cell_type": "markdown",
   "metadata": {},
   "source": [
    "The cell below loads the data in python:"
   ]
  },
  {
   "cell_type": "code",
   "execution_count": 41,
   "metadata": {},
   "outputs": [
    {
     "data": {
      "text/html": [
       "<div>\n",
       "<style scoped>\n",
       "    .dataframe tbody tr th:only-of-type {\n",
       "        vertical-align: middle;\n",
       "    }\n",
       "\n",
       "    .dataframe tbody tr th {\n",
       "        vertical-align: top;\n",
       "    }\n",
       "\n",
       "    .dataframe thead th {\n",
       "        text-align: right;\n",
       "    }\n",
       "</style>\n",
       "<table border=\"1\" class=\"dataframe\">\n",
       "  <thead>\n",
       "    <tr style=\"text-align: right;\">\n",
       "      <th></th>\n",
       "      <th>poll_id</th>\n",
       "      <th>question_id</th>\n",
       "      <th>race_id</th>\n",
       "      <th>year</th>\n",
       "      <th>race</th>\n",
       "      <th>location</th>\n",
       "      <th>type_simple</th>\n",
       "      <th>type_detail</th>\n",
       "      <th>pollster</th>\n",
       "      <th>pollster_rating_id</th>\n",
       "      <th>methodology</th>\n",
       "      <th>partisan</th>\n",
       "      <th>polldate</th>\n",
       "      <th>samplesize</th>\n",
       "      <th>cand1_name</th>\n",
       "      <th>cand1_id</th>\n",
       "      <th>cand1_party</th>\n",
       "      <th>cand1_pct</th>\n",
       "      <th>cand2_name</th>\n",
       "      <th>cand2_id</th>\n",
       "      <th>cand2_party</th>\n",
       "      <th>cand2_pct</th>\n",
       "      <th>cand3_pct</th>\n",
       "      <th>margin_poll</th>\n",
       "      <th>electiondate</th>\n",
       "      <th>cand1_actual</th>\n",
       "      <th>cand2_actual</th>\n",
       "      <th>margin_actual</th>\n",
       "      <th>bias</th>\n",
       "      <th>rightcall</th>\n",
       "      <th>comment</th>\n",
       "    </tr>\n",
       "  </thead>\n",
       "  <tbody>\n",
       "    <tr>\n",
       "      <th>4064</th>\n",
       "      <td>16803</td>\n",
       "      <td>21717</td>\n",
       "      <td>719</td>\n",
       "      <td>2008</td>\n",
       "      <td>2008_Pres-G_IN</td>\n",
       "      <td>IN</td>\n",
       "      <td>Pres-G</td>\n",
       "      <td>Pres-G</td>\n",
       "      <td>Public Policy Polling</td>\n",
       "      <td>263</td>\n",
       "      <td>IVR</td>\n",
       "      <td>NaN</td>\n",
       "      <td>10/19/08</td>\n",
       "      <td>1411.0</td>\n",
       "      <td>Barack Obama</td>\n",
       "      <td>41</td>\n",
       "      <td>DEM</td>\n",
       "      <td>48.0</td>\n",
       "      <td>John McCain</td>\n",
       "      <td>44</td>\n",
       "      <td>REP</td>\n",
       "      <td>46.0</td>\n",
       "      <td>NaN</td>\n",
       "      <td>2.0</td>\n",
       "      <td>11/4/08</td>\n",
       "      <td>49.95</td>\n",
       "      <td>48.91</td>\n",
       "      <td>1.03</td>\n",
       "      <td>0.97</td>\n",
       "      <td>1.0</td>\n",
       "      <td>NaN</td>\n",
       "    </tr>\n",
       "    <tr>\n",
       "      <th>7159</th>\n",
       "      <td>33832</td>\n",
       "      <td>41250</td>\n",
       "      <td>1248</td>\n",
       "      <td>2014</td>\n",
       "      <td>2014_Gov-G_MI</td>\n",
       "      <td>MI</td>\n",
       "      <td>Gov-G</td>\n",
       "      <td>Gov-G</td>\n",
       "      <td>Clarity Campaign Labs</td>\n",
       "      <td>52</td>\n",
       "      <td>IVR/Live Phone</td>\n",
       "      <td>D</td>\n",
       "      <td>10/20/14</td>\n",
       "      <td>1032.0</td>\n",
       "      <td>Mark Schauer</td>\n",
       "      <td>8610</td>\n",
       "      <td>DEM</td>\n",
       "      <td>44.0</td>\n",
       "      <td>Rick Snyder</td>\n",
       "      <td>8611</td>\n",
       "      <td>REP</td>\n",
       "      <td>41.0</td>\n",
       "      <td>NaN</td>\n",
       "      <td>3.0</td>\n",
       "      <td>11/4/14</td>\n",
       "      <td>46.86</td>\n",
       "      <td>50.92</td>\n",
       "      <td>-4.07</td>\n",
       "      <td>7.07</td>\n",
       "      <td>0.0</td>\n",
       "      <td>for unspecified Democratic sponsor</td>\n",
       "    </tr>\n",
       "    <tr>\n",
       "      <th>7217</th>\n",
       "      <td>34352</td>\n",
       "      <td>42046</td>\n",
       "      <td>1229</td>\n",
       "      <td>2014</td>\n",
       "      <td>2014_Gov-G_SD</td>\n",
       "      <td>SD</td>\n",
       "      <td>Gov-G</td>\n",
       "      <td>Gov-G</td>\n",
       "      <td>Mason-Dixon Polling &amp; Strategy</td>\n",
       "      <td>197</td>\n",
       "      <td>Live Phone</td>\n",
       "      <td>NaN</td>\n",
       "      <td>10/22/14</td>\n",
       "      <td>800.0</td>\n",
       "      <td>Susan M. Wismer</td>\n",
       "      <td>8753</td>\n",
       "      <td>DEM</td>\n",
       "      <td>26.0</td>\n",
       "      <td>Dennis M. Daugaard</td>\n",
       "      <td>8750</td>\n",
       "      <td>REP</td>\n",
       "      <td>62.0</td>\n",
       "      <td>5.0</td>\n",
       "      <td>-36.0</td>\n",
       "      <td>11/4/14</td>\n",
       "      <td>25.43</td>\n",
       "      <td>70.47</td>\n",
       "      <td>-45.03</td>\n",
       "      <td>9.03</td>\n",
       "      <td>1.0</td>\n",
       "      <td>for Argus Leader | KELO-TV</td>\n",
       "    </tr>\n",
       "    <tr>\n",
       "      <th>10560</th>\n",
       "      <td>72740</td>\n",
       "      <td>136517</td>\n",
       "      <td>6234</td>\n",
       "      <td>2020</td>\n",
       "      <td>2020_Pres-G_MN</td>\n",
       "      <td>MN</td>\n",
       "      <td>Pres-G</td>\n",
       "      <td>Pres-G</td>\n",
       "      <td>Data for Progress</td>\n",
       "      <td>522</td>\n",
       "      <td>Online/Text</td>\n",
       "      <td>NaN</td>\n",
       "      <td>10/30/20</td>\n",
       "      <td>1259.0</td>\n",
       "      <td>Joseph R. Biden Jr.</td>\n",
       "      <td>13256</td>\n",
       "      <td>DEM</td>\n",
       "      <td>51.0</td>\n",
       "      <td>Donald Trump</td>\n",
       "      <td>13254</td>\n",
       "      <td>REP</td>\n",
       "      <td>43.0</td>\n",
       "      <td>4.0</td>\n",
       "      <td>8.0</td>\n",
       "      <td>11/3/20</td>\n",
       "      <td>52.40</td>\n",
       "      <td>45.28</td>\n",
       "      <td>7.11</td>\n",
       "      <td>0.89</td>\n",
       "      <td>1.0</td>\n",
       "      <td>NaN</td>\n",
       "    </tr>\n",
       "    <tr>\n",
       "      <th>1812</th>\n",
       "      <td>4708</td>\n",
       "      <td>88588</td>\n",
       "      <td>1371</td>\n",
       "      <td>2004</td>\n",
       "      <td>2004_Gov-G_NH</td>\n",
       "      <td>NH</td>\n",
       "      <td>Gov-G</td>\n",
       "      <td>Gov-G</td>\n",
       "      <td>Research 2000</td>\n",
       "      <td>281</td>\n",
       "      <td>Live Phone</td>\n",
       "      <td>NaN</td>\n",
       "      <td>10/13/04</td>\n",
       "      <td>600.0</td>\n",
       "      <td>John Lynch</td>\n",
       "      <td>12801</td>\n",
       "      <td>DEM</td>\n",
       "      <td>44.0</td>\n",
       "      <td>Craig Benson</td>\n",
       "      <td>12802</td>\n",
       "      <td>REP</td>\n",
       "      <td>48.0</td>\n",
       "      <td>NaN</td>\n",
       "      <td>-4.0</td>\n",
       "      <td>11/2/04</td>\n",
       "      <td>51.02</td>\n",
       "      <td>48.87</td>\n",
       "      <td>2.15</td>\n",
       "      <td>-6.15</td>\n",
       "      <td>0.0</td>\n",
       "      <td>NaN</td>\n",
       "    </tr>\n",
       "  </tbody>\n",
       "</table>\n",
       "</div>"
      ],
      "text/plain": [
       "       poll_id  question_id  race_id  year            race location  \\\n",
       "4064     16803        21717      719  2008  2008_Pres-G_IN       IN   \n",
       "7159     33832        41250     1248  2014   2014_Gov-G_MI       MI   \n",
       "7217     34352        42046     1229  2014   2014_Gov-G_SD       SD   \n",
       "10560    72740       136517     6234  2020  2020_Pres-G_MN       MN   \n",
       "1812      4708        88588     1371  2004   2004_Gov-G_NH       NH   \n",
       "\n",
       "      type_simple type_detail                        pollster  \\\n",
       "4064       Pres-G      Pres-G           Public Policy Polling   \n",
       "7159        Gov-G       Gov-G           Clarity Campaign Labs   \n",
       "7217        Gov-G       Gov-G  Mason-Dixon Polling & Strategy   \n",
       "10560      Pres-G      Pres-G               Data for Progress   \n",
       "1812        Gov-G       Gov-G                   Research 2000   \n",
       "\n",
       "       pollster_rating_id     methodology partisan  polldate  samplesize  \\\n",
       "4064                  263             IVR      NaN  10/19/08      1411.0   \n",
       "7159                   52  IVR/Live Phone        D  10/20/14      1032.0   \n",
       "7217                  197      Live Phone      NaN  10/22/14       800.0   \n",
       "10560                 522     Online/Text      NaN  10/30/20      1259.0   \n",
       "1812                  281      Live Phone      NaN  10/13/04       600.0   \n",
       "\n",
       "                cand1_name  cand1_id cand1_party  cand1_pct  \\\n",
       "4064          Barack Obama        41         DEM       48.0   \n",
       "7159          Mark Schauer      8610         DEM       44.0   \n",
       "7217       Susan M. Wismer      8753         DEM       26.0   \n",
       "10560  Joseph R. Biden Jr.     13256         DEM       51.0   \n",
       "1812            John Lynch     12801         DEM       44.0   \n",
       "\n",
       "               cand2_name  cand2_id cand2_party  cand2_pct  cand3_pct  \\\n",
       "4064          John McCain        44         REP       46.0        NaN   \n",
       "7159          Rick Snyder      8611         REP       41.0        NaN   \n",
       "7217   Dennis M. Daugaard      8750         REP       62.0        5.0   \n",
       "10560        Donald Trump     13254         REP       43.0        4.0   \n",
       "1812         Craig Benson     12802         REP       48.0        NaN   \n",
       "\n",
       "       margin_poll electiondate  cand1_actual  cand2_actual  margin_actual  \\\n",
       "4064           2.0      11/4/08         49.95         48.91           1.03   \n",
       "7159           3.0      11/4/14         46.86         50.92          -4.07   \n",
       "7217         -36.0      11/4/14         25.43         70.47         -45.03   \n",
       "10560          8.0      11/3/20         52.40         45.28           7.11   \n",
       "1812          -4.0      11/2/04         51.02         48.87           2.15   \n",
       "\n",
       "       bias  rightcall                             comment  \n",
       "4064   0.97        1.0                                 NaN  \n",
       "7159   7.07        0.0  for unspecified Democratic sponsor  \n",
       "7217   9.03        1.0          for Argus Leader | KELO-TV  \n",
       "10560  0.89        1.0                                 NaN  \n",
       "1812  -6.15        0.0                                 NaN  "
      ]
     },
     "execution_count": 41,
     "metadata": {},
     "output_type": "execute_result"
    }
   ],
   "source": [
    "df = pd.read_csv('raw-polls.csv')\n",
    "df.sample(5)"
   ]
  },
  {
   "cell_type": "markdown",
   "metadata": {},
   "source": [
    "The cell below loads the same data in R:"
   ]
  },
  {
   "cell_type": "code",
   "execution_count": 42,
   "metadata": {},
   "outputs": [
    {
     "name": "stdout",
     "output_type": "stream",
     "text": [
      "Rows: 10776 Columns: 31\n",
      "── Column specification ────────────────────────────────────────────────────────\n",
      "Delimiter: \",\"\n",
      "chr (14): race, location, type_simple, type_detail, pollster, methodology, p...\n",
      "dbl (17): poll_id, question_id, race_id, year, pollster_rating_id, samplesiz...\n",
      "\n",
      "ℹ Use `spec()` to retrieve the full column specification for this data.\n",
      "ℹ Specify the column types or set `show_col_types = FALSE` to quiet this message.\n",
      "# A tibble: 10,776 × 31\n",
      "   poll_id questio…¹ race_id  year race  locat…² type_…³ type_…⁴ polls…⁵ polls…⁶\n",
      "     <dbl>     <dbl>   <dbl> <dbl> <chr> <chr>   <chr>   <chr>   <chr>     <dbl>\n",
      " 1   26013     87909    1455  1998 1998… NY      Gov-G   Gov-G   Blum &…      32\n",
      " 2   26255     87926    1456  1998 1998… OH      Gov-G   Gov-G   Univer…     346\n",
      " 3   26026     31266    1736  1998 1998… NV      Sen-G   Sen-G   FM3 Re…      91\n",
      " 4   26013     31253    1738  1998 1998… NY      Sen-G   Sen-G   Blum &…      32\n",
      " 5   63632    117103    1738  1998 1998… NY      Sen-G   Sen-G   Garin-…     113\n",
      " 6   26255     31495    1741  1998 1998… OH      Sen-G   Sen-G   Univer…     346\n",
      " 7   64053    117875    1966  1998 1998… ID-1    House-G House-G Garin-…     113\n",
      " 8   64053    117876    1967  1998 1998… ID-2    House-G House-G Garin-…     113\n",
      " 9   28268     33546    8661  1998 1998… US      House-G House-G CBS Ne…      36\n",
      "10   28267     33545    8661  1998 1998… US      House-G House-G Zogby …     395\n",
      "# … with 10,766 more rows, 21 more variables: methodology <chr>,\n",
      "#   partisan <chr>, polldate <chr>, samplesize <dbl>, cand1_name <chr>,\n",
      "#   cand1_id <dbl>, cand1_party <chr>, cand1_pct <dbl>, cand2_name <chr>,\n",
      "#   cand2_id <dbl>, cand2_party <chr>, cand2_pct <dbl>, cand3_pct <dbl>,\n",
      "#   margin_poll <dbl>, electiondate <chr>, cand1_actual <dbl>,\n",
      "#   cand2_actual <dbl>, margin_actual <dbl>, bias <dbl>, rightcall <dbl>,\n",
      "#   comment <chr>, and abbreviated variable names ¹​question_id, ²​location, …\n",
      "# ℹ Use `print(n = ...)` to see more rows, and `colnames()` to see all variable names\n"
     ]
    }
   ],
   "source": [
    "%%R\n",
    "\n",
    "df <- read_csv('raw-polls.csv')\n",
    "\n",
    "df"
   ]
  },
  {
   "cell_type": "markdown",
   "metadata": {},
   "source": [
    "# Guided Exploration\n",
    "\n",
    "In this section you'll make a few charts to explore the data. Here I will raise some questions for you to dig around in the data and answer. You can use summary statistics and/or charts to help answer the questions. You will have to make some methodological choices along the way. Be aware of what choices you're making! I'll ask you about them shortly.\n",
    "\n",
    "\n",
    "## Question 1: How accurate are polls from the following pollsters?\n",
    "Characterize the accuracy of each of these pollsters in a sentence or two. Then, write another few sentences justifying your characterization with insights from the data.\n",
    "- Siena College/The New York Times Upshot\n",
    "- Jayhawk Consulting\n",
    "- Fox News/Beacon Research/Shaw & Co. Research\n",
    "- Brown University\n",
    "- American Research Group\n"
   ]
  },
  {
   "cell_type": "markdown",
   "metadata": {},
   "source": [
    "👉 **Siena College/The New York Times Upshot** "
   ]
  },
  {
   "cell_type": "code",
   "execution_count": 43,
   "metadata": {},
   "outputs": [],
   "source": [
    "#get rid of the rows with samplesize below 600\n",
    "df_600 = df[df['samplesize'] >= 600]\n"
   ]
  },
  {
   "cell_type": "code",
   "execution_count": 44,
   "metadata": {},
   "outputs": [
    {
     "name": "stdout",
     "output_type": "stream",
     "text": [
      "NULL\n"
     ]
    }
   ],
   "source": [
    "%%R -i df_600\n",
    "\n",
    "\n"
   ]
  },
  {
   "cell_type": "code",
   "execution_count": 45,
   "metadata": {},
   "outputs": [
    {
     "data": {
      "text/plain": [
       "4.526410256410257"
      ]
     },
     "execution_count": 45,
     "metadata": {},
     "output_type": "execute_result"
    }
   ],
   "source": [
    "\n",
    "# Siena College/The New York Times Upshot\n",
    "\n",
    "filter = df_600.pollster == 'Siena College/The New York Times Upshot'\n",
    "Sena_NYT = df_600[filter]['bias'].mean()\n",
    "Sena_NYT\n"
   ]
  },
  {
   "cell_type": "markdown",
   "metadata": {},
   "source": [
    "👉 **Jayhawk Consulting**"
   ]
  },
  {
   "cell_type": "code",
   "execution_count": 46,
   "metadata": {},
   "outputs": [
    {
     "data": {
      "text/plain": [
       "32.29"
      ]
     },
     "execution_count": 46,
     "metadata": {},
     "output_type": "execute_result"
    }
   ],
   "source": [
    "filter_2 = df_600.pollster == 'Jayhawk Consulting Services'\n",
    "Jayhawk = df_600[filter_2]['bias'].mean()\n",
    "\n",
    "Jayhawk"
   ]
  },
  {
   "cell_type": "code",
   "execution_count": null,
   "metadata": {},
   "outputs": [],
   "source": []
  },
  {
   "cell_type": "markdown",
   "metadata": {},
   "source": [
    "👉 **Fox News/Beacon Research/Shaw & Co. Research**"
   ]
  },
  {
   "cell_type": "code",
   "execution_count": 47,
   "metadata": {},
   "outputs": [
    {
     "data": {
      "text/plain": [
       "3.073225806451613"
      ]
     },
     "execution_count": 47,
     "metadata": {},
     "output_type": "execute_result"
    }
   ],
   "source": [
    "\n",
    "filter_3 = df_600.pollster == 'Fox News/Beacon Research/Shaw & Co. Research'\n",
    "Fox = df_600[filter_3]['bias'].mean()\n",
    "Fox"
   ]
  },
  {
   "cell_type": "code",
   "execution_count": null,
   "metadata": {},
   "outputs": [],
   "source": []
  },
  {
   "cell_type": "markdown",
   "metadata": {},
   "source": [
    "👉 **Brown University**"
   ]
  },
  {
   "cell_type": "code",
   "execution_count": 48,
   "metadata": {},
   "outputs": [
    {
     "data": {
      "text/plain": [
       "6.63"
      ]
     },
     "execution_count": 48,
     "metadata": {},
     "output_type": "execute_result"
    }
   ],
   "source": [
    "\n",
    "filter_4 = df_600.pollster == 'Brown University'\n",
    "Brown = df_600[filter_4]['bias'].mean()\n",
    "Brown"
   ]
  },
  {
   "cell_type": "code",
   "execution_count": null,
   "metadata": {},
   "outputs": [],
   "source": []
  },
  {
   "cell_type": "markdown",
   "metadata": {},
   "source": [
    "👉 **American Research Group**"
   ]
  },
  {
   "cell_type": "code",
   "execution_count": 49,
   "metadata": {},
   "outputs": [
    {
     "data": {
      "text/plain": [
       "0.11116883116883129"
      ]
     },
     "execution_count": 49,
     "metadata": {},
     "output_type": "execute_result"
    }
   ],
   "source": [
    "\n",
    "filter_5 = df_600.pollster == 'American Research Group'\n",
    "American = df_600[filter_5]['bias'].mean()\n",
    "American"
   ]
  },
  {
   "cell_type": "code",
   "execution_count": 50,
   "metadata": {},
   "outputs": [
    {
     "data": {
      "text/html": [
       "<div>\n",
       "<style scoped>\n",
       "    .dataframe tbody tr th:only-of-type {\n",
       "        vertical-align: middle;\n",
       "    }\n",
       "\n",
       "    .dataframe tbody tr th {\n",
       "        vertical-align: top;\n",
       "    }\n",
       "\n",
       "    .dataframe thead th {\n",
       "        text-align: right;\n",
       "    }\n",
       "</style>\n",
       "<table border=\"1\" class=\"dataframe\">\n",
       "  <thead>\n",
       "    <tr style=\"text-align: right;\">\n",
       "      <th></th>\n",
       "      <th>pollster</th>\n",
       "      <th>bias</th>\n",
       "    </tr>\n",
       "  </thead>\n",
       "  <tbody>\n",
       "    <tr>\n",
       "      <th>0</th>\n",
       "      <td>Siena College/The New York Times Upshot</td>\n",
       "      <td>4.526410</td>\n",
       "    </tr>\n",
       "    <tr>\n",
       "      <th>1</th>\n",
       "      <td>Jayhawk Consulting</td>\n",
       "      <td>32.290000</td>\n",
       "    </tr>\n",
       "    <tr>\n",
       "      <th>2</th>\n",
       "      <td>Fox News/Beacon Research/Shaw &amp; Co. Research</td>\n",
       "      <td>3.073226</td>\n",
       "    </tr>\n",
       "    <tr>\n",
       "      <th>3</th>\n",
       "      <td>Brown University</td>\n",
       "      <td>6.630000</td>\n",
       "    </tr>\n",
       "    <tr>\n",
       "      <th>4</th>\n",
       "      <td>American Research Group</td>\n",
       "      <td>0.111169</td>\n",
       "    </tr>\n",
       "  </tbody>\n",
       "</table>\n",
       "</div>"
      ],
      "text/plain": [
       "                                       pollster       bias\n",
       "0       Siena College/The New York Times Upshot   4.526410\n",
       "1                            Jayhawk Consulting  32.290000\n",
       "2  Fox News/Beacon Research/Shaw & Co. Research   3.073226\n",
       "3                              Brown University   6.630000\n",
       "4                       American Research Group   0.111169"
      ]
     },
     "execution_count": 50,
     "metadata": {},
     "output_type": "execute_result"
    }
   ],
   "source": [
    "ranking = pd.DataFrame({'pollster': ['Siena College/The New York Times Upshot', 'Jayhawk Consulting', 'Fox News/Beacon Research/Shaw & Co. Research', 'Brown University', 'American Research Group'], 'bias': [Sena_NYT, Jayhawk, Fox, Brown, American]})\n",
    "ranking\n",
    "\n",
    "# American Research Group is the pollster with the least bias among all five pollsters, because it has the lowest average bias from all the polls it has conducted."
   ]
  },
  {
   "cell_type": "markdown",
   "metadata": {},
   "source": []
  },
  {
   "cell_type": "markdown",
   "metadata": {},
   "source": []
  },
  {
   "cell_type": "markdown",
   "metadata": {},
   "source": []
  },
  {
   "cell_type": "markdown",
   "metadata": {},
   "source": [
    "### Question 2: Which pollsters are the most accurate? Which are the least accurate?"
   ]
  },
  {
   "cell_type": "markdown",
   "metadata": {},
   "source": [
    "👉 Which pollsters are the most accurate?"
   ]
  },
  {
   "cell_type": "code",
   "execution_count": 51,
   "metadata": {},
   "outputs": [],
   "source": [
    "# American Research Group is the pollster with the least bias among all five pollsters, and we believe that it is the most reliable pollster among the five. We filtered out the polls that had a sample size below 600, because we believe that the sample size is a good indicator of the reliability of the poll. \n",
    "\n"
   ]
  },
  {
   "cell_type": "code",
   "execution_count": 52,
   "metadata": {},
   "outputs": [
    {
     "data": {
      "image/png": "[encoded data removed]"
     },
     "metadata": {},
     "output_type": "display_data"
    }
   ],
   "source": [
    "%%R -i df_600\n",
    "\n",
    "new_df_600 <- df_600 %>% \n",
    "    filter(type_simple=='Pres-G') %>%  \n",
    "    mutate(national = location==\"US\") %>%  \n",
    "    filter(national==TRUE) %>% \n",
    "    filter(year=='2020' | year=='2016') \n",
    "\n",
    "new_df_600 %>%\n",
    "    group_by(pollster) %>%\n",
    "    summarise(mean_bias = mean(bias)) %>%\n",
    "    arrange(desc(mean_bias)) %>%\n",
    "    ggplot(aes(x = pollster, y = mean_bias)) +\n",
    "    geom_col() +\n",
    "    coord_flip() +\n",
    "    labs(title = \"Pollster Bias\", x = \"Pollster\", y = \"Bias\") +\n",
    "    theme_minimal()\n",
    "\n",
    "\n",
    "# American Research Group is the pollster with the least bias among all five pollsters, because it has the lowest average bias from all the polls it has conducted.\n"
   ]
  },
  {
   "cell_type": "code",
   "execution_count": null,
   "metadata": {},
   "outputs": [],
   "source": []
  },
  {
   "cell_type": "markdown",
   "metadata": {},
   "source": [
    "👉 Which are the least accurate?"
   ]
  },
  {
   "cell_type": "code",
   "execution_count": 53,
   "metadata": {},
   "outputs": [],
   "source": [
    "# we think Jayhawk Consulting is the least accurate pollster because it has the highest average bias from all the polls it has conducted. Jayhawk Consulting only conducted two polls, and only one of the two polls had a sample size equals 600, which is a good indicator that Jayhawk Consulting is just a small pollster and is not very reliable."
   ]
  },
  {
   "cell_type": "code",
   "execution_count": null,
   "metadata": {},
   "outputs": [],
   "source": []
  },
  {
   "cell_type": "code",
   "execution_count": null,
   "metadata": {},
   "outputs": [],
   "source": []
  },
  {
   "cell_type": "markdown",
   "metadata": {},
   "source": [
    "### Question 2 Reflections"
   ]
  },
  {
   "cell_type": "markdown",
   "metadata": {},
   "source": [
    "👉 Write a summary paragraph explaining how you decided what constitutes “most accurate” and \"least accurate\"?\n"
   ]
  },
  {
   "cell_type": "code",
   "execution_count": 54,
   "metadata": {},
   "outputs": [],
   "source": [
    "# we use the average bias of each pollster to rank the pollsters from most reliable to least reliable. "
   ]
  },
  {
   "cell_type": "markdown",
   "metadata": {},
   "source": [
    "👉 In bullet point form, name **methodological choices** you made in the process of determining which pollsters were the most and least accurate.\n"
   ]
  },
  {
   "cell_type": "code",
   "execution_count": 55,
   "metadata": {},
   "outputs": [],
   "source": [
    "#1. We only calculated the average bias of the pollsters that had a sample size of 600 or above\n",
    "#2. We used the average of the bias of each pollster because we think the average bias is more accurate than the bias for each individual poll\n"
   ]
  },
  {
   "cell_type": "markdown",
   "metadata": {},
   "source": [
    "👉 In bullet point form, list the **limitations** of your approach \n"
   ]
  },
  {
   "cell_type": "code",
   "execution_count": 56,
   "metadata": {},
   "outputs": [],
   "source": [
    "#1. Jayhawk Consulting only has one poll that met our standard of having a sample size of 600 or above, so we have limited information to make a conclusion about Jayhawk Consulting, though the data we have is probably enough to indicate Jayhawk Consulting\tis not a reliable pollster.\n",
    "\n",
    "#2. We didn't make a plot to see the distribution of the bias of each pollster because we think the average bias is more accurate than the bias for each individual poll.\n",
    "\n",
    "#3. We didn't study on the bias change of one specific pollster over time, because some pollers might have improve their methodology over time."
   ]
  }
 ],
 "metadata": {
  "kernelspec": {
   "display_name": "Python 3",
   "language": "python",
   "name": "python3"
  },
  "language_info": {
   "codemirror_mode": {
    "name": "ipython",
    "version": 3
   },
   "file_extension": ".py",
   "mimetype": "text/x-python",
   "name": "python",
   "nbconvert_exporter": "python",
   "pygments_lexer": "ipython3",
   "version": "3.11.0rc2"
  },
  "vscode": {
   "interpreter": {
    "hash": "e90d6f730404473425c714071b0fe103c0a531102113070eae46c99bdeea19ae"
   }
  }
 },
 "nbformat": 4,
 "nbformat_minor": 4
}
