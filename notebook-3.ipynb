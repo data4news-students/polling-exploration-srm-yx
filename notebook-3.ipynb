{
 "cells": [
  {
   "cell_type": "markdown",
   "metadata": {},
   "source": [
    "# Python and R"
   ]
  },
  {
   "cell_type": "code",
   "execution_count": 78,
   "metadata": {},
   "outputs": [
    {
     "name": "stdout",
     "output_type": "stream",
     "text": [
      "The rpy2.ipython extension is already loaded. To reload it, use:\n",
      "  %reload_ext rpy2.ipython\n",
      "The autoreload extension is already loaded. To reload it, use:\n",
      "  %reload_ext autoreload\n"
     ]
    }
   ],
   "source": [
    "%load_ext rpy2.ipython\n",
    "%load_ext autoreload\n",
    "%autoreload 2\n",
    "\n",
    "%matplotlib inline  \n",
    "from matplotlib import rcParams\n",
    "rcParams['figure.figsize'] = (16, 100)\n",
    "\n",
    "import warnings\n",
    "from rpy2.rinterface import RRuntimeWarning\n",
    "warnings.filterwarnings(\"ignore\") # Ignore all warnings\n",
    "# warnings.filterwarnings(\"ignore\", category=RRuntimeWarning) # Show some warnings\n",
    "\n",
    "import pandas as pd\n",
    "import numpy as np\n",
    "import matplotlib.pyplot as plt\n",
    "from IPython.display import display, HTML\n",
    "\n",
    "# show all columns on pandas dataframes\n",
    "pd.set_option('display.max_columns', None)\n"
   ]
  },
  {
   "cell_type": "code",
   "execution_count": 79,
   "metadata": {},
   "outputs": [
    {
     "data": {
      "application/javascript": "// Disable auto-scrolling\nIPython.OutputArea.prototype._should_scroll = function(lines) {\n    return false;\n}\n",
      "text/plain": [
       "<IPython.core.display.Javascript object>"
      ]
     },
     "metadata": {},
     "output_type": "display_data"
    }
   ],
   "source": [
    "%%javascript\n",
    "// Disable auto-scrolling\n",
    "IPython.OutputArea.prototype._should_scroll = function(lines) {\n",
    "    return false;\n",
    "}"
   ]
  },
  {
   "cell_type": "code",
   "execution_count": 80,
   "metadata": {},
   "outputs": [],
   "source": [
    "%%R\n",
    "\n",
    "# My commonly used R imports\n",
    "\n",
    "require('tidyverse')\n"
   ]
  },
  {
   "cell_type": "markdown",
   "metadata": {},
   "source": [
    "\n",
    "# Read the data\n",
    "\n"
   ]
  },
  {
   "cell_type": "markdown",
   "metadata": {},
   "source": [
    "The cell below loads the data in python:"
   ]
  },
  {
   "cell_type": "code",
   "execution_count": 81,
   "metadata": {},
   "outputs": [
    {
     "data": {
      "text/html": [
       "<div>\n",
       "<style scoped>\n",
       "    .dataframe tbody tr th:only-of-type {\n",
       "        vertical-align: middle;\n",
       "    }\n",
       "\n",
       "    .dataframe tbody tr th {\n",
       "        vertical-align: top;\n",
       "    }\n",
       "\n",
       "    .dataframe thead th {\n",
       "        text-align: right;\n",
       "    }\n",
       "</style>\n",
       "<table border=\"1\" class=\"dataframe\">\n",
       "  <thead>\n",
       "    <tr style=\"text-align: right;\">\n",
       "      <th></th>\n",
       "      <th>poll_id</th>\n",
       "      <th>question_id</th>\n",
       "      <th>race_id</th>\n",
       "      <th>year</th>\n",
       "      <th>race</th>\n",
       "      <th>location</th>\n",
       "      <th>type_simple</th>\n",
       "      <th>type_detail</th>\n",
       "      <th>pollster</th>\n",
       "      <th>pollster_rating_id</th>\n",
       "      <th>methodology</th>\n",
       "      <th>partisan</th>\n",
       "      <th>polldate</th>\n",
       "      <th>samplesize</th>\n",
       "      <th>cand1_name</th>\n",
       "      <th>cand1_id</th>\n",
       "      <th>cand1_party</th>\n",
       "      <th>cand1_pct</th>\n",
       "      <th>cand2_name</th>\n",
       "      <th>cand2_id</th>\n",
       "      <th>cand2_party</th>\n",
       "      <th>cand2_pct</th>\n",
       "      <th>cand3_pct</th>\n",
       "      <th>margin_poll</th>\n",
       "      <th>electiondate</th>\n",
       "      <th>cand1_actual</th>\n",
       "      <th>cand2_actual</th>\n",
       "      <th>margin_actual</th>\n",
       "      <th>bias</th>\n",
       "      <th>rightcall</th>\n",
       "      <th>comment</th>\n",
       "    </tr>\n",
       "  </thead>\n",
       "  <tbody>\n",
       "    <tr>\n",
       "      <th>2282</th>\n",
       "      <td>4435</td>\n",
       "      <td>26357</td>\n",
       "      <td>1639</td>\n",
       "      <td>2004</td>\n",
       "      <td>2004_Sen-G_OK</td>\n",
       "      <td>OK</td>\n",
       "      <td>Sen-G</td>\n",
       "      <td>Sen-G</td>\n",
       "      <td>Cole Hargrave Snodgrass &amp; Associates</td>\n",
       "      <td>56</td>\n",
       "      <td>Live Phone</td>\n",
       "      <td>NaN</td>\n",
       "      <td>10/26/04</td>\n",
       "      <td>500.0</td>\n",
       "      <td>Brad R. Carson</td>\n",
       "      <td>3311</td>\n",
       "      <td>DEM</td>\n",
       "      <td>38.0</td>\n",
       "      <td>Tom Coburn</td>\n",
       "      <td>3310</td>\n",
       "      <td>REP</td>\n",
       "      <td>43.0</td>\n",
       "      <td>6.0</td>\n",
       "      <td>-5.0</td>\n",
       "      <td>11/2/04</td>\n",
       "      <td>41.24</td>\n",
       "      <td>52.77</td>\n",
       "      <td>-11.52</td>\n",
       "      <td>6.52</td>\n",
       "      <td>1.0</td>\n",
       "      <td>among registered voters</td>\n",
       "    </tr>\n",
       "    <tr>\n",
       "      <th>9801</th>\n",
       "      <td>71455</td>\n",
       "      <td>133836</td>\n",
       "      <td>6281</td>\n",
       "      <td>2020</td>\n",
       "      <td>2020_Sen-G_MN</td>\n",
       "      <td>MN</td>\n",
       "      <td>Sen-G</td>\n",
       "      <td>Sen-G</td>\n",
       "      <td>Change Research</td>\n",
       "      <td>48</td>\n",
       "      <td>Online</td>\n",
       "      <td>NaN</td>\n",
       "      <td>10/14/20</td>\n",
       "      <td>1021.0</td>\n",
       "      <td>Tina Smith</td>\n",
       "      <td>15691</td>\n",
       "      <td>DEM</td>\n",
       "      <td>48.0</td>\n",
       "      <td>Jason Lewis</td>\n",
       "      <td>15692</td>\n",
       "      <td>REP</td>\n",
       "      <td>44.0</td>\n",
       "      <td>3.0</td>\n",
       "      <td>4.0</td>\n",
       "      <td>11/3/20</td>\n",
       "      <td>48.74</td>\n",
       "      <td>43.50</td>\n",
       "      <td>5.24</td>\n",
       "      <td>-1.24</td>\n",
       "      <td>1.0</td>\n",
       "      <td>for MinnPost</td>\n",
       "    </tr>\n",
       "    <tr>\n",
       "      <th>7496</th>\n",
       "      <td>34385</td>\n",
       "      <td>125142</td>\n",
       "      <td>1247</td>\n",
       "      <td>2014</td>\n",
       "      <td>2014_Gov-G_CO</td>\n",
       "      <td>CO</td>\n",
       "      <td>Gov-G</td>\n",
       "      <td>Gov-G</td>\n",
       "      <td>Public Policy Polling</td>\n",
       "      <td>263</td>\n",
       "      <td>IVR/Online</td>\n",
       "      <td>D</td>\n",
       "      <td>11/2/14</td>\n",
       "      <td>739.0</td>\n",
       "      <td>John Wright Hickenlooper</td>\n",
       "      <td>8708</td>\n",
       "      <td>DEM</td>\n",
       "      <td>47.0</td>\n",
       "      <td>Bob Beauprez</td>\n",
       "      <td>8704</td>\n",
       "      <td>REP</td>\n",
       "      <td>47.5</td>\n",
       "      <td>2.0</td>\n",
       "      <td>-0.5</td>\n",
       "      <td>11/4/14</td>\n",
       "      <td>49.30</td>\n",
       "      <td>45.95</td>\n",
       "      <td>3.34</td>\n",
       "      <td>-3.84</td>\n",
       "      <td>0.0</td>\n",
       "      <td>for unspecified Democratic sponsor; average of...</td>\n",
       "    </tr>\n",
       "    <tr>\n",
       "      <th>9376</th>\n",
       "      <td>56723</td>\n",
       "      <td>91369</td>\n",
       "      <td>112</td>\n",
       "      <td>2018</td>\n",
       "      <td>2018_Sen-G_NV</td>\n",
       "      <td>NV</td>\n",
       "      <td>Sen-G</td>\n",
       "      <td>Sen-G</td>\n",
       "      <td>Trafalgar Group</td>\n",
       "      <td>338</td>\n",
       "      <td>IVR</td>\n",
       "      <td>R</td>\n",
       "      <td>10/31/18</td>\n",
       "      <td>2587.0</td>\n",
       "      <td>Jacky Rosen</td>\n",
       "      <td>11150</td>\n",
       "      <td>DEM</td>\n",
       "      <td>45.6</td>\n",
       "      <td>Dean Heller</td>\n",
       "      <td>11151</td>\n",
       "      <td>REP</td>\n",
       "      <td>48.9</td>\n",
       "      <td>NaN</td>\n",
       "      <td>-3.3</td>\n",
       "      <td>11/6/18</td>\n",
       "      <td>50.41</td>\n",
       "      <td>45.38</td>\n",
       "      <td>5.03</td>\n",
       "      <td>-8.33</td>\n",
       "      <td>0.0</td>\n",
       "      <td>for unspecified Republican sponsor</td>\n",
       "    </tr>\n",
       "    <tr>\n",
       "      <th>9139</th>\n",
       "      <td>66738</td>\n",
       "      <td>124506</td>\n",
       "      <td>149</td>\n",
       "      <td>2018</td>\n",
       "      <td>2018_Gov-G_MN</td>\n",
       "      <td>MN</td>\n",
       "      <td>Gov-G</td>\n",
       "      <td>Gov-G</td>\n",
       "      <td>St. Cloud State University</td>\n",
       "      <td>312</td>\n",
       "      <td>Live Phone</td>\n",
       "      <td>NaN</td>\n",
       "      <td>10/23/18</td>\n",
       "      <td>404.0</td>\n",
       "      <td>Timothy J. Walz</td>\n",
       "      <td>12420</td>\n",
       "      <td>DEM</td>\n",
       "      <td>50.0</td>\n",
       "      <td>Jeff Johnson</td>\n",
       "      <td>12421</td>\n",
       "      <td>REP</td>\n",
       "      <td>34.0</td>\n",
       "      <td>NaN</td>\n",
       "      <td>16.0</td>\n",
       "      <td>11/6/18</td>\n",
       "      <td>53.84</td>\n",
       "      <td>42.43</td>\n",
       "      <td>11.42</td>\n",
       "      <td>4.58</td>\n",
       "      <td>1.0</td>\n",
       "      <td>NaN</td>\n",
       "    </tr>\n",
       "  </tbody>\n",
       "</table>\n",
       "</div>"
      ],
      "text/plain": [
       "      poll_id  question_id  race_id  year           race location type_simple  \\\n",
       "2282     4435        26357     1639  2004  2004_Sen-G_OK       OK       Sen-G   \n",
       "9801    71455       133836     6281  2020  2020_Sen-G_MN       MN       Sen-G   \n",
       "7496    34385       125142     1247  2014  2014_Gov-G_CO       CO       Gov-G   \n",
       "9376    56723        91369      112  2018  2018_Sen-G_NV       NV       Sen-G   \n",
       "9139    66738       124506      149  2018  2018_Gov-G_MN       MN       Gov-G   \n",
       "\n",
       "     type_detail                              pollster  pollster_rating_id  \\\n",
       "2282       Sen-G  Cole Hargrave Snodgrass & Associates                  56   \n",
       "9801       Sen-G                       Change Research                  48   \n",
       "7496       Gov-G                 Public Policy Polling                 263   \n",
       "9376       Sen-G                       Trafalgar Group                 338   \n",
       "9139       Gov-G            St. Cloud State University                 312   \n",
       "\n",
       "     methodology partisan  polldate  samplesize                cand1_name  \\\n",
       "2282  Live Phone      NaN  10/26/04       500.0            Brad R. Carson   \n",
       "9801      Online      NaN  10/14/20      1021.0                Tina Smith   \n",
       "7496  IVR/Online        D   11/2/14       739.0  John Wright Hickenlooper   \n",
       "9376         IVR        R  10/31/18      2587.0               Jacky Rosen   \n",
       "9139  Live Phone      NaN  10/23/18       404.0           Timothy J. Walz   \n",
       "\n",
       "      cand1_id cand1_party  cand1_pct    cand2_name  cand2_id cand2_party  \\\n",
       "2282      3311         DEM       38.0    Tom Coburn      3310         REP   \n",
       "9801     15691         DEM       48.0   Jason Lewis     15692         REP   \n",
       "7496      8708         DEM       47.0  Bob Beauprez      8704         REP   \n",
       "9376     11150         DEM       45.6   Dean Heller     11151         REP   \n",
       "9139     12420         DEM       50.0  Jeff Johnson     12421         REP   \n",
       "\n",
       "      cand2_pct  cand3_pct  margin_poll electiondate  cand1_actual  \\\n",
       "2282       43.0        6.0         -5.0      11/2/04         41.24   \n",
       "9801       44.0        3.0          4.0      11/3/20         48.74   \n",
       "7496       47.5        2.0         -0.5      11/4/14         49.30   \n",
       "9376       48.9        NaN         -3.3      11/6/18         50.41   \n",
       "9139       34.0        NaN         16.0      11/6/18         53.84   \n",
       "\n",
       "      cand2_actual  margin_actual  bias  rightcall  \\\n",
       "2282         52.77         -11.52  6.52        1.0   \n",
       "9801         43.50           5.24 -1.24        1.0   \n",
       "7496         45.95           3.34 -3.84        0.0   \n",
       "9376         45.38           5.03 -8.33        0.0   \n",
       "9139         42.43          11.42  4.58        1.0   \n",
       "\n",
       "                                                comment  \n",
       "2282                            among registered voters  \n",
       "9801                                       for MinnPost  \n",
       "7496  for unspecified Democratic sponsor; average of...  \n",
       "9376                 for unspecified Republican sponsor  \n",
       "9139                                                NaN  "
      ]
     },
     "execution_count": 81,
     "metadata": {},
     "output_type": "execute_result"
    }
   ],
   "source": [
    "df = pd.read_csv('raw-polls.csv')\n",
    "df.sample(5)"
   ]
  },
  {
   "cell_type": "markdown",
   "metadata": {},
   "source": [
    "The cell below loads the same data in R:"
   ]
  },
  {
   "cell_type": "code",
   "execution_count": 82,
   "metadata": {},
   "outputs": [
    {
     "name": "stdout",
     "output_type": "stream",
     "text": [
      "Rows: 10776 Columns: 31\n",
      "── Column specification ────────────────────────────────────────────────────────\n",
      "Delimiter: \",\"\n",
      "chr (14): race, location, type_simple, type_detail, pollster, methodology, p...\n",
      "dbl (17): poll_id, question_id, race_id, year, pollster_rating_id, samplesiz...\n",
      "\n",
      "ℹ Use `spec()` to retrieve the full column specification for this data.\n",
      "ℹ Specify the column types or set `show_col_types = FALSE` to quiet this message.\n",
      "# A tibble: 10,776 × 31\n",
      "   poll_id questio…¹ race_id  year race  locat…² type_…³ type_…⁴ polls…⁵ polls…⁶\n",
      "     <dbl>     <dbl>   <dbl> <dbl> <chr> <chr>   <chr>   <chr>   <chr>     <dbl>\n",
      " 1   26013     87909    1455  1998 1998… NY      Gov-G   Gov-G   Blum &…      32\n",
      " 2   26255     87926    1456  1998 1998… OH      Gov-G   Gov-G   Univer…     346\n",
      " 3   26026     31266    1736  1998 1998… NV      Sen-G   Sen-G   FM3 Re…      91\n",
      " 4   26013     31253    1738  1998 1998… NY      Sen-G   Sen-G   Blum &…      32\n",
      " 5   63632    117103    1738  1998 1998… NY      Sen-G   Sen-G   Garin-…     113\n",
      " 6   26255     31495    1741  1998 1998… OH      Sen-G   Sen-G   Univer…     346\n",
      " 7   64053    117875    1966  1998 1998… ID-1    House-G House-G Garin-…     113\n",
      " 8   64053    117876    1967  1998 1998… ID-2    House-G House-G Garin-…     113\n",
      " 9   28268     33546    8661  1998 1998… US      House-G House-G CBS Ne…      36\n",
      "10   28267     33545    8661  1998 1998… US      House-G House-G Zogby …     395\n",
      "# … with 10,766 more rows, 21 more variables: methodology <chr>,\n",
      "#   partisan <chr>, polldate <chr>, samplesize <dbl>, cand1_name <chr>,\n",
      "#   cand1_id <dbl>, cand1_party <chr>, cand1_pct <dbl>, cand2_name <chr>,\n",
      "#   cand2_id <dbl>, cand2_party <chr>, cand2_pct <dbl>, cand3_pct <dbl>,\n",
      "#   margin_poll <dbl>, electiondate <chr>, cand1_actual <dbl>,\n",
      "#   cand2_actual <dbl>, margin_actual <dbl>, bias <dbl>, rightcall <dbl>,\n",
      "#   comment <chr>, and abbreviated variable names ¹​question_id, ²​location, …\n",
      "# ℹ Use `print(n = ...)` to see more rows, and `colnames()` to see all variable names\n"
     ]
    }
   ],
   "source": [
    "%%R\n",
    "\n",
    "df <- read_csv('raw-polls.csv')\n",
    "\n",
    "df"
   ]
  },
  {
   "cell_type": "markdown",
   "metadata": {},
   "source": [
    "# Guided Exploration\n",
    "\n",
    "In this section you'll make a few charts to explore the data. Here I will raise some questions for you to dig around in the data and answer. You can use summary statistics and/or charts to help answer the questions. You will have to make some methodological choices along the way. Be aware of what choices you're making! I'll ask you about them shortly.\n",
    "\n",
    "\n",
    "## Question 1: How accurate are polls from the following pollsters?\n",
    "Characterize the accuracy of each of these pollsters in a sentence or two. Then, write another few sentences justifying your characterization with insights from the data.\n",
    "- Siena College/The New York Times Upshot\n",
    "- Jayhawk Consulting\n",
    "- Fox News/Beacon Research/Shaw & Co. Research\n",
    "- Brown University\n",
    "- American Research Group\n"
   ]
  },
  {
   "cell_type": "markdown",
   "metadata": {},
   "source": [
    "👉 **Siena College/The New York Times Upshot** "
   ]
  },
  {
   "cell_type": "code",
   "execution_count": 83,
   "metadata": {},
   "outputs": [],
   "source": [
    "#get rid of the rows with samplesize below 600\n",
    "df_600 = df[df['samplesize'] >= 600]\n"
   ]
  },
  {
   "cell_type": "code",
   "execution_count": 84,
   "metadata": {},
   "outputs": [
    {
     "data": {
      "text/plain": [
       "4.526410256410257"
      ]
     },
     "execution_count": 84,
     "metadata": {},
     "output_type": "execute_result"
    }
   ],
   "source": [
    "\n",
    "# Siena College/The New York Times Upshot\n",
    "\n",
    "filter = df_600.pollster == 'Siena College/The New York Times Upshot'\n",
    "Sena_NYT = df_600[filter]['bias'].mean()\n",
    "Sena_NYT\n"
   ]
  },
  {
   "cell_type": "markdown",
   "metadata": {},
   "source": [
    "👉 **Jayhawk Consulting**"
   ]
  },
  {
   "cell_type": "code",
   "execution_count": 85,
   "metadata": {},
   "outputs": [
    {
     "data": {
      "text/plain": [
       "32.29"
      ]
     },
     "execution_count": 85,
     "metadata": {},
     "output_type": "execute_result"
    }
   ],
   "source": [
    "filter_2 = df_600.pollster == 'Jayhawk Consulting Services'\n",
    "Jayhawk = df_600[filter_2]['bias'].mean()\n",
    "\n",
    "Jayhawk"
   ]
  },
  {
   "cell_type": "code",
   "execution_count": null,
   "metadata": {},
   "outputs": [],
   "source": []
  },
  {
   "cell_type": "markdown",
   "metadata": {},
   "source": [
    "👉 **Fox News/Beacon Research/Shaw & Co. Research**"
   ]
  },
  {
   "cell_type": "code",
   "execution_count": 86,
   "metadata": {},
   "outputs": [
    {
     "data": {
      "text/plain": [
       "3.073225806451613"
      ]
     },
     "execution_count": 86,
     "metadata": {},
     "output_type": "execute_result"
    }
   ],
   "source": [
    "\n",
    "filter_3 = df_600.pollster == 'Fox News/Beacon Research/Shaw & Co. Research'\n",
    "Fox = df_600[filter_3]['bias'].mean()\n",
    "Fox"
   ]
  },
  {
   "cell_type": "code",
   "execution_count": null,
   "metadata": {},
   "outputs": [],
   "source": []
  },
  {
   "cell_type": "markdown",
   "metadata": {},
   "source": [
    "👉 **Brown University**"
   ]
  },
  {
   "cell_type": "code",
   "execution_count": 87,
   "metadata": {},
   "outputs": [
    {
     "data": {
      "text/plain": [
       "6.63"
      ]
     },
     "execution_count": 87,
     "metadata": {},
     "output_type": "execute_result"
    }
   ],
   "source": [
    "\n",
    "filter_4 = df_600.pollster == 'Brown University'\n",
    "Brown = df_600[filter_4]['bias'].mean()\n",
    "Brown"
   ]
  },
  {
   "cell_type": "code",
   "execution_count": null,
   "metadata": {},
   "outputs": [],
   "source": []
  },
  {
   "cell_type": "markdown",
   "metadata": {},
   "source": [
    "👉 **American Research Group**"
   ]
  },
  {
   "cell_type": "code",
   "execution_count": 88,
   "metadata": {},
   "outputs": [
    {
     "data": {
      "text/plain": [
       "0.11116883116883129"
      ]
     },
     "execution_count": 88,
     "metadata": {},
     "output_type": "execute_result"
    }
   ],
   "source": [
    "\n",
    "filter_5 = df_600.pollster == 'American Research Group'\n",
    "American = df_600[filter_5]['bias'].mean()\n",
    "American"
   ]
  },
  {
   "cell_type": "code",
   "execution_count": 89,
   "metadata": {},
   "outputs": [
    {
     "data": {
      "text/html": [
       "<div>\n",
       "<style scoped>\n",
       "    .dataframe tbody tr th:only-of-type {\n",
       "        vertical-align: middle;\n",
       "    }\n",
       "\n",
       "    .dataframe tbody tr th {\n",
       "        vertical-align: top;\n",
       "    }\n",
       "\n",
       "    .dataframe thead th {\n",
       "        text-align: right;\n",
       "    }\n",
       "</style>\n",
       "<table border=\"1\" class=\"dataframe\">\n",
       "  <thead>\n",
       "    <tr style=\"text-align: right;\">\n",
       "      <th></th>\n",
       "      <th>pollster</th>\n",
       "      <th>bias</th>\n",
       "    </tr>\n",
       "  </thead>\n",
       "  <tbody>\n",
       "    <tr>\n",
       "      <th>0</th>\n",
       "      <td>Siena College/The New York Times Upshot</td>\n",
       "      <td>4.526410</td>\n",
       "    </tr>\n",
       "    <tr>\n",
       "      <th>1</th>\n",
       "      <td>Jayhawk Consulting</td>\n",
       "      <td>32.290000</td>\n",
       "    </tr>\n",
       "    <tr>\n",
       "      <th>2</th>\n",
       "      <td>Fox News/Beacon Research/Shaw &amp; Co. Research</td>\n",
       "      <td>3.073226</td>\n",
       "    </tr>\n",
       "    <tr>\n",
       "      <th>3</th>\n",
       "      <td>Brown University</td>\n",
       "      <td>6.630000</td>\n",
       "    </tr>\n",
       "    <tr>\n",
       "      <th>4</th>\n",
       "      <td>American Research Group</td>\n",
       "      <td>0.111169</td>\n",
       "    </tr>\n",
       "  </tbody>\n",
       "</table>\n",
       "</div>"
      ],
      "text/plain": [
       "                                       pollster       bias\n",
       "0       Siena College/The New York Times Upshot   4.526410\n",
       "1                            Jayhawk Consulting  32.290000\n",
       "2  Fox News/Beacon Research/Shaw & Co. Research   3.073226\n",
       "3                              Brown University   6.630000\n",
       "4                       American Research Group   0.111169"
      ]
     },
     "execution_count": 89,
     "metadata": {},
     "output_type": "execute_result"
    }
   ],
   "source": [
    "ranking = pd.DataFrame({'pollster': ['Siena College/The New York Times Upshot', 'Jayhawk Consulting', 'Fox News/Beacon Research/Shaw & Co. Research', 'Brown University', 'American Research Group'], 'bias': [Sena_NYT, Jayhawk, Fox, Brown, American]})\n",
    "ranking\n",
    "\n",
    "# American Research Group is the pollster with the least bias among all five pollsters, because it has the lowest average bias from all the polls it has conducted."
   ]
  },
  {
   "cell_type": "markdown",
   "metadata": {},
   "source": [
    "### Question 2: Which pollsters are the most accurate? Which are the least accurate?"
   ]
  },
  {
   "cell_type": "markdown",
   "metadata": {},
   "source": [
    "👉 Which pollsters are the most accurate?"
   ]
  },
  {
   "cell_type": "code",
   "execution_count": null,
   "metadata": {},
   "outputs": [],
   "source": []
  },
  {
   "cell_type": "code",
   "execution_count": null,
   "metadata": {},
   "outputs": [],
   "source": []
  },
  {
   "cell_type": "code",
   "execution_count": null,
   "metadata": {},
   "outputs": [],
   "source": []
  },
  {
   "cell_type": "markdown",
   "metadata": {},
   "source": [
    "👉 Which are the least accurate?"
   ]
  },
  {
   "cell_type": "code",
   "execution_count": null,
   "metadata": {},
   "outputs": [],
   "source": []
  },
  {
   "cell_type": "code",
   "execution_count": null,
   "metadata": {},
   "outputs": [],
   "source": []
  },
  {
   "cell_type": "code",
   "execution_count": null,
   "metadata": {},
   "outputs": [],
   "source": []
  },
  {
   "cell_type": "markdown",
   "metadata": {},
   "source": [
    "### Question 2 Reflections"
   ]
  },
  {
   "cell_type": "markdown",
   "metadata": {},
   "source": [
    "👉 Write a summary paragraph explaining how you decided what constitutes “most accurate” and \"least accurate\"?\n"
   ]
  },
  {
   "cell_type": "code",
   "execution_count": null,
   "metadata": {},
   "outputs": [],
   "source": []
  },
  {
   "cell_type": "markdown",
   "metadata": {},
   "source": [
    "👉 In bullet point form, name **methodological choices** you made in the process of determining which pollsters were the most and least accurate.\n"
   ]
  },
  {
   "cell_type": "code",
   "execution_count": null,
   "metadata": {},
   "outputs": [],
   "source": []
  },
  {
   "cell_type": "markdown",
   "metadata": {},
   "source": [
    "👉 In bullet point form, list the **limitations** of your approach \n"
   ]
  },
  {
   "cell_type": "code",
   "execution_count": null,
   "metadata": {},
   "outputs": [],
   "source": []
  }
 ],
 "metadata": {
  "kernelspec": {
   "display_name": "Python 3",
   "language": "python",
   "name": "python3"
  },
  "language_info": {
   "codemirror_mode": {
    "name": "ipython",
    "version": 3
   },
   "file_extension": ".py",
   "mimetype": "text/x-python",
   "name": "python",
   "nbconvert_exporter": "python",
   "pygments_lexer": "ipython3",
   "version": "3.11.0rc2"
  },
  "vscode": {
   "interpreter": {
    "hash": "e90d6f730404473425c714071b0fe103c0a531102113070eae46c99bdeea19ae"
   }
  }
 },
 "nbformat": 4,
 "nbformat_minor": 4
}
